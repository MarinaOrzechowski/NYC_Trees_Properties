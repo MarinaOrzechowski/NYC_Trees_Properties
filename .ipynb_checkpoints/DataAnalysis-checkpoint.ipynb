{
 "cells": [
  {
   "cell_type": "code",
   "execution_count": 1,
   "metadata": {},
   "outputs": [],
   "source": [
    "import pandas as pd\n",
    "import numpy as np\n",
    "import json\n",
    "\n",
    "from area import area\n",
    "\n",
    "import matplotlib.pyplot as plt\n",
    "import seaborn as sns\n",
    "%matplotlib inline"
   ]
  },
  {
   "cell_type": "markdown",
   "metadata": {},
   "source": [
    "<h2>Load data</h2>"
   ]
  },
  {
   "cell_type": "code",
   "execution_count": 168,
   "metadata": {},
   "outputs": [],
   "source": [
    "df2015raw = pd.read_csv('2015_carto_table.csv')"
   ]
  },
  {
   "cell_type": "code",
   "execution_count": 167,
   "metadata": {},
   "outputs": [],
   "source": [
    "properties_df_raw = pd.read_csv('Property_Valuation_and_Assessment_Data.csv')"
   ]
  },
  {
   "cell_type": "code",
   "execution_count": 46,
   "metadata": {},
   "outputs": [],
   "source": [
    "properties_df_raw = properties_df_raw[properties_df_raw['YEAR'] == '2015/16']"
   ]
  },
  {
   "cell_type": "markdown",
   "metadata": {},
   "source": [
    "<h2>Check data properties</h2>"
   ]
  },
  {
   "cell_type": "code",
   "execution_count": 47,
   "metadata": {},
   "outputs": [
    {
     "name": "stdout",
     "output_type": "stream",
     "text": [
      "<class 'pandas.core.frame.DataFrame'>\n",
      "Int64Index: 1096247 entries, 3278495 to 4426254\n",
      "Data columns (total 39 columns):\n",
      " #   Column            Non-Null Count    Dtype  \n",
      "---  ------            --------------    -----  \n",
      " 0   BBLE              1096247 non-null  object \n",
      " 1   BORO              1096247 non-null  int64  \n",
      " 2   BLOCK             1096247 non-null  int64  \n",
      " 3   LOT               1096247 non-null  int64  \n",
      " 4   EASEMENT          4587 non-null     object \n",
      " 5   OWNER             1076542 non-null  object \n",
      " 6   BLDGCL            1096247 non-null  object \n",
      " 7   TAXCLASS          1096247 non-null  object \n",
      " 8   LTFRONT           1096247 non-null  int64  \n",
      " 9   LTDEPTH           1096247 non-null  int64  \n",
      " 10  EXT               353375 non-null   object \n",
      " 11  STORIES           1040521 non-null  float64\n",
      " 12  FULLVAL           1096247 non-null  int64  \n",
      " 13  AVLAND            1096247 non-null  int64  \n",
      " 14  AVTOT             1096247 non-null  int64  \n",
      " 15  EXLAND            1096247 non-null  int64  \n",
      " 16  EXTOT             1096247 non-null  int64  \n",
      " 17  EXCD1             555911 non-null   float64\n",
      " 18  STADDR            1095581 non-null  object \n",
      " 19  POSTCODE          1069243 non-null  float64\n",
      " 20  EXMPTCL           15354 non-null    object \n",
      " 21  BLDFRONT          1096247 non-null  int64  \n",
      " 22  BLDDEPTH          1096247 non-null  int64  \n",
      " 23  AVLAND2           303146 non-null   float64\n",
      " 24  AVTOT2            303146 non-null   float64\n",
      " 25  EXLAND2           86727 non-null    float64\n",
      " 26  EXTOT2            138236 non-null   float64\n",
      " 27  EXCD2             84001 non-null    float64\n",
      " 28  PERIOD            1096247 non-null  object \n",
      " 29  YEAR              1096247 non-null  object \n",
      " 30  VALTYPE           1096247 non-null  object \n",
      " 31  Borough           1059288 non-null  object \n",
      " 32  Latitude          1058992 non-null  float64\n",
      " 33  Longitude         1058992 non-null  float64\n",
      " 34  Community Board   1058992 non-null  float64\n",
      " 35  Council District  1058992 non-null  float64\n",
      " 36  Census Tract      1058992 non-null  float64\n",
      " 37  BIN               1052871 non-null  float64\n",
      " 38  NTA               1058992 non-null  object \n",
      "dtypes: float64(14), int64(12), object(13)\n",
      "memory usage: 334.5+ MB\n"
     ]
    }
   ],
   "source": [
    "properties_df_raw.info()"
   ]
  },
  {
   "cell_type": "code",
   "execution_count": 169,
   "metadata": {},
   "outputs": [
    {
     "name": "stdout",
     "output_type": "stream",
     "text": [
      "<class 'pandas.core.frame.DataFrame'>\n",
      "RangeIndex: 683702 entries, 0 to 683701\n",
      "Data columns (total 6 columns):\n",
      " #   Column      Non-Null Count   Dtype  \n",
      "---  ------      --------------   -----  \n",
      " 0   health      652087 non-null  object \n",
      " 1   spc_latin   652084 non-null  object \n",
      " 2   spc_common  652084 non-null  object \n",
      " 3   borough     683702 non-null  object \n",
      " 4   ntaname     683702 non-null  object \n",
      " 5   shape_area  683702 non-null  float64\n",
      "dtypes: float64(1), object(5)\n",
      "memory usage: 31.3+ MB\n"
     ]
    }
   ],
   "source": [
    "df2015raw.info()"
   ]
  },
  {
   "cell_type": "code",
   "execution_count": 48,
   "metadata": {},
   "outputs": [],
   "source": [
    "properties_df_raw= properties_df_raw[['FULLVAL', 'AVLAND', 'AVTOT','Borough','Latitude','Longitude']]"
   ]
  },
  {
   "cell_type": "code",
   "execution_count": 49,
   "metadata": {},
   "outputs": [
    {
     "name": "stdout",
     "output_type": "stream",
     "text": [
      "<class 'pandas.core.frame.DataFrame'>\n",
      "Int64Index: 1058992 entries, 3329998 to 4426254\n",
      "Data columns (total 6 columns):\n",
      " #   Column     Non-Null Count    Dtype  \n",
      "---  ------     --------------    -----  \n",
      " 0   FULLVAL    1058992 non-null  int64  \n",
      " 1   AVLAND     1058992 non-null  int64  \n",
      " 2   AVTOT      1058992 non-null  int64  \n",
      " 3   Borough    1058992 non-null  object \n",
      " 4   Latitude   1058992 non-null  float64\n",
      " 5   Longitude  1058992 non-null  float64\n",
      "dtypes: float64(2), int64(3), object(1)\n",
      "memory usage: 56.6+ MB\n"
     ]
    }
   ],
   "source": [
    "properties_df_raw.dropna(inplace=True)\n",
    "properties_df_raw.info()"
   ]
  },
  {
   "cell_type": "markdown",
   "metadata": {},
   "source": [
    "Data in each data set had different columns, so we couldn't use it for analysis. We removed not overlapping columns using Excel. \n",
    "Next step is make sure existing columns in different years have same names, and are lower case."
   ]
  },
  {
   "cell_type": "code",
   "execution_count": 170,
   "metadata": {},
   "outputs": [],
   "source": [
    "df2015raw.columns = map(str.lower, df2015raw.columns)\n",
    "#df2005raw.columns = map(str.lower, df2005raw.columns)\n",
    "#df1995raw.columns = map(str.lower, df1995raw.columns) "
   ]
  },
  {
   "cell_type": "code",
   "execution_count": 171,
   "metadata": {},
   "outputs": [
    {
     "data": {
      "text/plain": [
       "Index(['health', 'spc_latin', 'spc_common', 'borough', 'ntaname',\n",
       "       'shape_area'],\n",
       "      dtype='object')"
      ]
     },
     "execution_count": 171,
     "metadata": {},
     "output_type": "execute_result"
    }
   ],
   "source": [
    "df2015raw.columns"
   ]
  },
  {
   "cell_type": "code",
   "execution_count": 50,
   "metadata": {},
   "outputs": [
    {
     "data": {
      "text/plain": [
       "Index(['fullval', 'avland', 'avtot', 'borough', 'latitude', 'longitude'], dtype='object')"
      ]
     },
     "execution_count": 50,
     "metadata": {},
     "output_type": "execute_result"
    }
   ],
   "source": [
    "properties_df_raw.columns = map(str.lower, properties_df_raw.columns)\n",
    "properties_df_raw.columns"
   ]
  },
  {
   "cell_type": "code",
   "execution_count": 51,
   "metadata": {},
   "outputs": [],
   "source": [
    "properties_df_raw = properties_df_raw.applymap(lambda s:s.lower() if type(s) == str else s)"
   ]
  },
  {
   "cell_type": "code",
   "execution_count": 52,
   "metadata": {},
   "outputs": [],
   "source": [
    "properties_df_raw.rename(columns={'fullval': 'full value', 'avland': 'avg.land value/acre'}, inplace=True)"
   ]
  },
  {
   "cell_type": "code",
   "execution_count": 53,
   "metadata": {},
   "outputs": [
    {
     "name": "stdout",
     "output_type": "stream",
     "text": [
      "<class 'pandas.core.frame.DataFrame'>\n",
      "Int64Index: 1058992 entries, 3329998 to 4426254\n",
      "Data columns (total 6 columns):\n",
      " #   Column               Non-Null Count    Dtype  \n",
      "---  ------               --------------    -----  \n",
      " 0   full value           1058992 non-null  int64  \n",
      " 1   avg.land value/acre  1058992 non-null  int64  \n",
      " 2   avtot                1058992 non-null  int64  \n",
      " 3   borough              1058992 non-null  object \n",
      " 4   latitude             1058992 non-null  float64\n",
      " 5   longitude            1058992 non-null  float64\n",
      "dtypes: float64(2), int64(3), object(1)\n",
      "memory usage: 56.6+ MB\n"
     ]
    }
   ],
   "source": [
    "properties_df_raw.info()"
   ]
  },
  {
   "cell_type": "code",
   "execution_count": 156,
   "metadata": {},
   "outputs": [],
   "source": [
    "#df2005raw.columns"
   ]
  },
  {
   "cell_type": "code",
   "execution_count": 157,
   "metadata": {},
   "outputs": [],
   "source": [
    "#df1995raw.columns"
   ]
  },
  {
   "cell_type": "markdown",
   "metadata": {},
   "source": [
    "#We don't need coordinates of each tree, we only need to know in which neigbourhood each tree grows. Also, we don't need to know id of each tree. So, we can remove columns x_sp, y_sp, latitude, longitude, tree_id in each data frame."
   ]
  },
  {
   "cell_type": "code",
   "execution_count": 158,
   "metadata": {},
   "outputs": [],
   "source": [
    "#df2015 = df2015raw[['health', 'spc_latin', 'spc_common', 'borough', 'nta_name']]\n",
    "#df2005 = df2005raw[['health', 'spc_latin', 'spc_common', 'boroname', 'nta_name']]\n",
    "#df1995 = df1995raw[['health', 'spc_latin', 'spc_common', 'borough', 'ntaname']]"
   ]
  },
  {
   "cell_type": "code",
   "execution_count": 159,
   "metadata": {},
   "outputs": [],
   "source": [
    "#df2005.rename(columns={'boroname': 'borough'})\n",
    "#df1995.rename(columns={'ntaname': 'nta'})\n",
    "#df2005.rename(columns={'nta_name': 'nta'})\n",
    "#df2015.rename(columns={'nta_name': 'nta'})"
   ]
  },
  {
   "cell_type": "code",
   "execution_count": 175,
   "metadata": {},
   "outputs": [],
   "source": [
    "#df1995 = df1995.applymap(lambda s:s.lower() if type(s) == str else s)\n",
    "#df2005 = df2005.applymap(lambda s:s.lower() if type(s) == str else s)\n",
    "df2015raw = df2015raw.applymap(lambda s:s.lower() if type(s) == str else s)"
   ]
  },
  {
   "cell_type": "code",
   "execution_count": 17,
   "metadata": {},
   "outputs": [],
   "source": [
    "properties_df = properties_df.applymap(lambda s:s.lower() if type(s))"
   ]
  },
  {
   "cell_type": "code",
   "execution_count": 18,
   "metadata": {},
   "outputs": [
    {
     "name": "stdout",
     "output_type": "stream",
     "text": [
      "<class 'pandas.core.frame.DataFrame'>\n",
      "RangeIndex: 27312 entries, 0 to 27311\n",
      "Data columns (total 10 columns):\n",
      " #   Column                   Non-Null Count  Dtype  \n",
      "---  ------                   --------------  -----  \n",
      " 0   2/23/16                  27311 non-null  object \n",
      " 1   borocode                 27312 non-null  int64  \n",
      " 2   block                    27312 non-null  int64  \n",
      " 3   lot                      27312 non-null  int64  \n",
      " 4   original market value    27310 non-null  float64\n",
      " 5   original assessed value  27311 non-null  float64\n",
      " 6   borough                  22424 non-null  object \n",
      " 7   postcode                 22419 non-null  float64\n",
      " 8   latitude                 22419 non-null  float64\n",
      " 9   longitude                22419 non-null  float64\n",
      "dtypes: float64(5), int64(3), object(2)\n",
      "memory usage: 2.1+ MB\n"
     ]
    }
   ],
   "source": [
    "properties_df.info()"
   ]
  },
  {
   "cell_type": "markdown",
   "metadata": {},
   "source": [
    "If data is missing in the \"health\" column it means the tree is dead"
   ]
  },
  {
   "cell_type": "code",
   "execution_count": 20,
   "metadata": {},
   "outputs": [
    {
     "name": "stdout",
     "output_type": "stream",
     "text": [
      "<class 'pandas.core.frame.DataFrame'>\n",
      "Int64Index: 22418 entries, 0 to 27310\n",
      "Data columns (total 10 columns):\n",
      " #   Column                   Non-Null Count  Dtype  \n",
      "---  ------                   --------------  -----  \n",
      " 0   2/23/16                  22418 non-null  object \n",
      " 1   borocode                 22418 non-null  int64  \n",
      " 2   block                    22418 non-null  int64  \n",
      " 3   lot                      22418 non-null  int64  \n",
      " 4   original market value    22418 non-null  float64\n",
      " 5   original assessed value  22418 non-null  float64\n",
      " 6   borough                  22418 non-null  object \n",
      " 7   postcode                 22418 non-null  float64\n",
      " 8   latitude                 22418 non-null  float64\n",
      " 9   longitude                22418 non-null  float64\n",
      "dtypes: float64(5), int64(3), object(2)\n",
      "memory usage: 1.9+ MB\n"
     ]
    }
   ],
   "source": [
    "properties_df.dropna(inplace=True)\n",
    "properties_df.info()"
   ]
  },
  {
   "cell_type": "code",
   "execution_count": 21,
   "metadata": {},
   "outputs": [
    {
     "data": {
      "text/html": [
       "<div>\n",
       "<style scoped>\n",
       "    .dataframe tbody tr th:only-of-type {\n",
       "        vertical-align: middle;\n",
       "    }\n",
       "\n",
       "    .dataframe tbody tr th {\n",
       "        vertical-align: top;\n",
       "    }\n",
       "\n",
       "    .dataframe thead th {\n",
       "        text-align: right;\n",
       "    }\n",
       "</style>\n",
       "<table border=\"1\" class=\"dataframe\">\n",
       "  <thead>\n",
       "    <tr style=\"text-align: right;\">\n",
       "      <th></th>\n",
       "      <th>2/23/16</th>\n",
       "      <th>borocode</th>\n",
       "      <th>block</th>\n",
       "      <th>lot</th>\n",
       "      <th>original market value</th>\n",
       "      <th>original assessed value</th>\n",
       "      <th>borough</th>\n",
       "      <th>postcode</th>\n",
       "      <th>latitude</th>\n",
       "      <th>longitude</th>\n",
       "    </tr>\n",
       "  </thead>\n",
       "  <tbody>\n",
       "    <tr>\n",
       "      <th>0</th>\n",
       "      <td>2/23/16</td>\n",
       "      <td>1</td>\n",
       "      <td>343</td>\n",
       "      <td>61</td>\n",
       "      <td>2298000.0</td>\n",
       "      <td>62520.0</td>\n",
       "      <td>manhattan</td>\n",
       "      <td>10002.0</td>\n",
       "      <td>40.717979</td>\n",
       "      <td>-73.982666</td>\n",
       "    </tr>\n",
       "    <tr>\n",
       "      <th>2</th>\n",
       "      <td>2/23/16</td>\n",
       "      <td>1</td>\n",
       "      <td>615</td>\n",
       "      <td>23</td>\n",
       "      <td>9828000.0</td>\n",
       "      <td>140340.0</td>\n",
       "      <td>manhattan</td>\n",
       "      <td>10014.0</td>\n",
       "      <td>40.737605</td>\n",
       "      <td>-74.002746</td>\n",
       "    </tr>\n",
       "    <tr>\n",
       "      <th>4</th>\n",
       "      <td>2/23/16</td>\n",
       "      <td>1</td>\n",
       "      <td>717</td>\n",
       "      <td>63</td>\n",
       "      <td>7076000.0</td>\n",
       "      <td>321758.0</td>\n",
       "      <td>manhattan</td>\n",
       "      <td>10010.0</td>\n",
       "      <td>40.743827</td>\n",
       "      <td>-73.987907</td>\n",
       "    </tr>\n",
       "    <tr>\n",
       "      <th>5</th>\n",
       "      <td>2/23/16</td>\n",
       "      <td>1</td>\n",
       "      <td>741</td>\n",
       "      <td>5</td>\n",
       "      <td>10537000.0</td>\n",
       "      <td>465612.0</td>\n",
       "      <td>manhattan</td>\n",
       "      <td>10001.0</td>\n",
       "      <td>40.748340</td>\n",
       "      <td>-73.988830</td>\n",
       "    </tr>\n",
       "    <tr>\n",
       "      <th>6</th>\n",
       "      <td>2/23/16</td>\n",
       "      <td>1</td>\n",
       "      <td>885</td>\n",
       "      <td>57</td>\n",
       "      <td>16514000.0</td>\n",
       "      <td>208810.0</td>\n",
       "      <td>manhattan</td>\n",
       "      <td>10016.0</td>\n",
       "      <td>40.743700</td>\n",
       "      <td>-73.981155</td>\n",
       "    </tr>\n",
       "  </tbody>\n",
       "</table>\n",
       "</div>"
      ],
      "text/plain": [
       "   2/23/16  borocode  block  lot  original market value  \\\n",
       "0  2/23/16         1    343   61              2298000.0   \n",
       "2  2/23/16         1    615   23              9828000.0   \n",
       "4  2/23/16         1    717   63              7076000.0   \n",
       "5  2/23/16         1    741    5             10537000.0   \n",
       "6  2/23/16         1    885   57             16514000.0   \n",
       "\n",
       "   original assessed value    borough  postcode   latitude  longitude  \n",
       "0                  62520.0  manhattan   10002.0  40.717979 -73.982666  \n",
       "2                 140340.0  manhattan   10014.0  40.737605 -74.002746  \n",
       "4                 321758.0  manhattan   10010.0  40.743827 -73.987907  \n",
       "5                 465612.0  manhattan   10001.0  40.748340 -73.988830  \n",
       "6                 208810.0  manhattan   10016.0  40.743700 -73.981155  "
      ]
     },
     "execution_count": 21,
     "metadata": {},
     "output_type": "execute_result"
    }
   ],
   "source": [
    "properties_df.head()"
   ]
  },
  {
   "cell_type": "code",
   "execution_count": 24,
   "metadata": {},
   "outputs": [],
   "source": [
    "properties_df=properties_df[['original market value', 'original assessed value', 'borough', 'latitude', 'longitude']]"
   ]
  },
  {
   "cell_type": "code",
   "execution_count": 25,
   "metadata": {},
   "outputs": [],
   "source": [
    "properties_df.rename(columns={'original market value': 'market value', 'original assessed value': 'assessed value'}, inplace=True)"
   ]
  },
  {
   "cell_type": "code",
   "execution_count": 26,
   "metadata": {},
   "outputs": [
    {
     "data": {
      "text/html": [
       "<div>\n",
       "<style scoped>\n",
       "    .dataframe tbody tr th:only-of-type {\n",
       "        vertical-align: middle;\n",
       "    }\n",
       "\n",
       "    .dataframe tbody tr th {\n",
       "        vertical-align: top;\n",
       "    }\n",
       "\n",
       "    .dataframe thead th {\n",
       "        text-align: right;\n",
       "    }\n",
       "</style>\n",
       "<table border=\"1\" class=\"dataframe\">\n",
       "  <thead>\n",
       "    <tr style=\"text-align: right;\">\n",
       "      <th></th>\n",
       "      <th>market value</th>\n",
       "      <th>assessed value</th>\n",
       "      <th>borough</th>\n",
       "      <th>latitude</th>\n",
       "      <th>longitude</th>\n",
       "    </tr>\n",
       "  </thead>\n",
       "  <tbody>\n",
       "    <tr>\n",
       "      <th>0</th>\n",
       "      <td>2298000.0</td>\n",
       "      <td>62520.0</td>\n",
       "      <td>manhattan</td>\n",
       "      <td>40.717979</td>\n",
       "      <td>-73.982666</td>\n",
       "    </tr>\n",
       "    <tr>\n",
       "      <th>2</th>\n",
       "      <td>9828000.0</td>\n",
       "      <td>140340.0</td>\n",
       "      <td>manhattan</td>\n",
       "      <td>40.737605</td>\n",
       "      <td>-74.002746</td>\n",
       "    </tr>\n",
       "    <tr>\n",
       "      <th>4</th>\n",
       "      <td>7076000.0</td>\n",
       "      <td>321758.0</td>\n",
       "      <td>manhattan</td>\n",
       "      <td>40.743827</td>\n",
       "      <td>-73.987907</td>\n",
       "    </tr>\n",
       "    <tr>\n",
       "      <th>5</th>\n",
       "      <td>10537000.0</td>\n",
       "      <td>465612.0</td>\n",
       "      <td>manhattan</td>\n",
       "      <td>40.748340</td>\n",
       "      <td>-73.988830</td>\n",
       "    </tr>\n",
       "    <tr>\n",
       "      <th>6</th>\n",
       "      <td>16514000.0</td>\n",
       "      <td>208810.0</td>\n",
       "      <td>manhattan</td>\n",
       "      <td>40.743700</td>\n",
       "      <td>-73.981155</td>\n",
       "    </tr>\n",
       "  </tbody>\n",
       "</table>\n",
       "</div>"
      ],
      "text/plain": [
       "   market value  assessed value    borough   latitude  longitude\n",
       "0     2298000.0         62520.0  manhattan  40.717979 -73.982666\n",
       "2     9828000.0        140340.0  manhattan  40.737605 -74.002746\n",
       "4     7076000.0        321758.0  manhattan  40.743827 -73.987907\n",
       "5    10537000.0        465612.0  manhattan  40.748340 -73.988830\n",
       "6    16514000.0        208810.0  manhattan  40.743700 -73.981155"
      ]
     },
     "execution_count": 26,
     "metadata": {},
     "output_type": "execute_result"
    }
   ],
   "source": [
    "properties_df.head()"
   ]
  },
  {
   "cell_type": "code",
   "execution_count": 28,
   "metadata": {},
   "outputs": [
    {
     "name": "stdout",
     "output_type": "stream",
     "text": [
      "       market value  assessed value    borough   latitude  longitude\n",
      "168             0.0             0.0  manhattan  40.759963 -73.987810\n",
      "324             0.0             0.0  manhattan  40.724795 -74.008554\n",
      "965             0.0             0.0  manhattan  40.721828 -74.003124\n",
      "1076            0.0             0.0  manhattan  40.721828 -74.003124\n",
      "1124            0.0             0.0  manhattan  40.724795 -74.008554\n",
      "...             ...             ...        ...        ...        ...\n",
      "27181           0.0             0.0  staten is  40.538445 -74.145622\n",
      "27207           0.0             0.0  staten is  40.558489 -74.168371\n",
      "27208           0.0             0.0  staten is  40.558528 -74.168378\n",
      "27215           0.0             0.0  staten is  40.545907 -74.169886\n",
      "27303           0.0             0.0  staten is  40.508901 -74.243330\n",
      "\n",
      "[2603 rows x 5 columns]\n"
     ]
    }
   ],
   "source": [
    "print(properties_df[properties_df['market value'] == 0])"
   ]
  },
  {
   "cell_type": "code",
   "execution_count": 172,
   "metadata": {},
   "outputs": [],
   "source": [
    "df2015raw['health'].fillna(value = 'dead', inplace = True)\n",
    "df2015raw.dropna(inplace=True)"
   ]
  },
  {
   "cell_type": "code",
   "execution_count": 163,
   "metadata": {},
   "outputs": [],
   "source": [
    "#df2005.info()"
   ]
  },
  {
   "cell_type": "code",
   "execution_count": 171,
   "metadata": {},
   "outputs": [],
   "source": [
    "#df1995.info()"
   ]
  },
  {
   "cell_type": "code",
   "execution_count": 172,
   "metadata": {},
   "outputs": [],
   "source": [
    "#df1995.dropna(inplace = True)\n",
    "#df2005.dropna(inplace = True)\n",
    "#df2015.dropna(inplace = True)"
   ]
  },
  {
   "cell_type": "code",
   "execution_count": 173,
   "metadata": {},
   "outputs": [],
   "source": [
    "#health_level_names = df1995.groupby('health').count()\n",
    "#print(health_level_names)"
   ]
  },
  {
   "cell_type": "code",
   "execution_count": 174,
   "metadata": {},
   "outputs": [],
   "source": [
    "#df1995['health'].replace('stump', 'dead', inplace = True)\n",
    "#remove = df1995[(df1995['health'] == 'planting space') | (df1995['health'] == 'shaft') | (df1995['health'] ==  'unknown')].index\n",
    "#df1995.drop(remove , inplace=True)\n"
   ]
  },
  {
   "cell_type": "code",
   "execution_count": 175,
   "metadata": {},
   "outputs": [],
   "source": [
    "#health_level_names = df1995.groupby('health').count()\n",
    "#print(health_level_names)"
   ]
  },
  {
   "cell_type": "code",
   "execution_count": 176,
   "metadata": {},
   "outputs": [],
   "source": [
    "#health_level_names2 = df2005.groupby('health').count()\n",
    "#print(health_level_names2)"
   ]
  },
  {
   "cell_type": "code",
   "execution_count": 173,
   "metadata": {},
   "outputs": [
    {
     "name": "stdout",
     "output_type": "stream",
     "text": [
      "        spc_latin  spc_common  borough  ntaname  shape_area\n",
      "health                                                     \n",
      "Fair        96490       96490    96490    96490       96490\n",
      "Good       528781      528781   528781   528781      528781\n",
      "Poor        26811       26811    26811    26811       26811\n",
      "dead            2           2        2        2           2\n"
     ]
    }
   ],
   "source": [
    "health_level_names3 = df2015raw.groupby('health').count()\n",
    "print(health_level_names3)"
   ]
  },
  {
   "cell_type": "markdown",
   "metadata": {},
   "source": [
    "from now on we focus on 2015, since we don't have enough information about properties for 1995, 2005"
   ]
  },
  {
   "cell_type": "code",
   "execution_count": 176,
   "metadata": {},
   "outputs": [],
   "source": [
    "health_level = {'good': 15, 'fair': 10, 'poor': 5, 'dead': 0} \n",
    "df2015raw['health'] = [health_level[item] for item in df2015raw['health']] "
   ]
  },
  {
   "cell_type": "code",
   "execution_count": 177,
   "metadata": {},
   "outputs": [
    {
     "data": {
      "text/html": [
       "<div>\n",
       "<style scoped>\n",
       "    .dataframe tbody tr th:only-of-type {\n",
       "        vertical-align: middle;\n",
       "    }\n",
       "\n",
       "    .dataframe tbody tr th {\n",
       "        vertical-align: top;\n",
       "    }\n",
       "\n",
       "    .dataframe thead th {\n",
       "        text-align: right;\n",
       "    }\n",
       "</style>\n",
       "<table border=\"1\" class=\"dataframe\">\n",
       "  <thead>\n",
       "    <tr style=\"text-align: right;\">\n",
       "      <th></th>\n",
       "      <th>health</th>\n",
       "      <th>spc_latin</th>\n",
       "      <th>spc_common</th>\n",
       "      <th>borough</th>\n",
       "      <th>ntaname</th>\n",
       "      <th>shape_area</th>\n",
       "    </tr>\n",
       "  </thead>\n",
       "  <tbody>\n",
       "    <tr>\n",
       "      <th>569558</th>\n",
       "      <td>15</td>\n",
       "      <td>quercus palustris</td>\n",
       "      <td>pin oak</td>\n",
       "      <td>queens</td>\n",
       "      <td>astoria</td>\n",
       "      <td>3.933551e+07</td>\n",
       "    </tr>\n",
       "    <tr>\n",
       "      <th>569559</th>\n",
       "      <td>5</td>\n",
       "      <td>gymnocladus dioicus</td>\n",
       "      <td>kentucky coffeetree</td>\n",
       "      <td>queens</td>\n",
       "      <td>astoria</td>\n",
       "      <td>3.933551e+07</td>\n",
       "    </tr>\n",
       "    <tr>\n",
       "      <th>569561</th>\n",
       "      <td>15</td>\n",
       "      <td>quercus rubra</td>\n",
       "      <td>northern red oak</td>\n",
       "      <td>queens</td>\n",
       "      <td>astoria</td>\n",
       "      <td>3.933551e+07</td>\n",
       "    </tr>\n",
       "    <tr>\n",
       "      <th>569562</th>\n",
       "      <td>15</td>\n",
       "      <td>quercus palustris</td>\n",
       "      <td>pin oak</td>\n",
       "      <td>queens</td>\n",
       "      <td>astoria</td>\n",
       "      <td>3.933551e+07</td>\n",
       "    </tr>\n",
       "    <tr>\n",
       "      <th>569563</th>\n",
       "      <td>15</td>\n",
       "      <td>fraxinus pennsylvanica</td>\n",
       "      <td>green ash</td>\n",
       "      <td>queens</td>\n",
       "      <td>astoria</td>\n",
       "      <td>3.933551e+07</td>\n",
       "    </tr>\n",
       "    <tr>\n",
       "      <th>...</th>\n",
       "      <td>...</td>\n",
       "      <td>...</td>\n",
       "      <td>...</td>\n",
       "      <td>...</td>\n",
       "      <td>...</td>\n",
       "      <td>...</td>\n",
       "    </tr>\n",
       "    <tr>\n",
       "      <th>573940</th>\n",
       "      <td>15</td>\n",
       "      <td>gleditsia triacanthos var. inermis</td>\n",
       "      <td>honeylocust</td>\n",
       "      <td>queens</td>\n",
       "      <td>astoria</td>\n",
       "      <td>3.933551e+07</td>\n",
       "    </tr>\n",
       "    <tr>\n",
       "      <th>573941</th>\n",
       "      <td>15</td>\n",
       "      <td>gleditsia triacanthos var. inermis</td>\n",
       "      <td>honeylocust</td>\n",
       "      <td>queens</td>\n",
       "      <td>astoria</td>\n",
       "      <td>3.933551e+07</td>\n",
       "    </tr>\n",
       "    <tr>\n",
       "      <th>573942</th>\n",
       "      <td>15</td>\n",
       "      <td>gleditsia triacanthos var. inermis</td>\n",
       "      <td>honeylocust</td>\n",
       "      <td>queens</td>\n",
       "      <td>astoria</td>\n",
       "      <td>3.933551e+07</td>\n",
       "    </tr>\n",
       "    <tr>\n",
       "      <th>573943</th>\n",
       "      <td>15</td>\n",
       "      <td>gleditsia triacanthos var. inermis</td>\n",
       "      <td>honeylocust</td>\n",
       "      <td>queens</td>\n",
       "      <td>astoria</td>\n",
       "      <td>3.933551e+07</td>\n",
       "    </tr>\n",
       "    <tr>\n",
       "      <th>573944</th>\n",
       "      <td>15</td>\n",
       "      <td>gleditsia triacanthos var. inermis</td>\n",
       "      <td>honeylocust</td>\n",
       "      <td>queens</td>\n",
       "      <td>astoria</td>\n",
       "      <td>3.933551e+07</td>\n",
       "    </tr>\n",
       "  </tbody>\n",
       "</table>\n",
       "<p>4183 rows × 6 columns</p>\n",
       "</div>"
      ],
      "text/plain": [
       "        health                           spc_latin           spc_common  \\\n",
       "569558      15                   quercus palustris              pin oak   \n",
       "569559       5                 gymnocladus dioicus  kentucky coffeetree   \n",
       "569561      15                       quercus rubra     northern red oak   \n",
       "569562      15                   quercus palustris              pin oak   \n",
       "569563      15              fraxinus pennsylvanica            green ash   \n",
       "...        ...                                 ...                  ...   \n",
       "573940      15  gleditsia triacanthos var. inermis          honeylocust   \n",
       "573941      15  gleditsia triacanthos var. inermis          honeylocust   \n",
       "573942      15  gleditsia triacanthos var. inermis          honeylocust   \n",
       "573943      15  gleditsia triacanthos var. inermis          honeylocust   \n",
       "573944      15  gleditsia triacanthos var. inermis          honeylocust   \n",
       "\n",
       "       borough  ntaname    shape_area  \n",
       "569558  queens  astoria  3.933551e+07  \n",
       "569559  queens  astoria  3.933551e+07  \n",
       "569561  queens  astoria  3.933551e+07  \n",
       "569562  queens  astoria  3.933551e+07  \n",
       "569563  queens  astoria  3.933551e+07  \n",
       "...        ...      ...           ...  \n",
       "573940  queens  astoria  3.933551e+07  \n",
       "573941  queens  astoria  3.933551e+07  \n",
       "573942  queens  astoria  3.933551e+07  \n",
       "573943  queens  astoria  3.933551e+07  \n",
       "573944  queens  astoria  3.933551e+07  \n",
       "\n",
       "[4183 rows x 6 columns]"
      ]
     },
     "execution_count": 177,
     "metadata": {},
     "output_type": "execute_result"
    }
   ],
   "source": [
    "df2015raw[df2015raw['ntaname'] == 'astoria']"
   ]
  },
  {
   "cell_type": "markdown",
   "metadata": {},
   "source": [
    "Recalculate sq. feet to sq. miles:"
   ]
  },
  {
   "cell_type": "code",
   "execution_count": 178,
   "metadata": {},
   "outputs": [],
   "source": [
    "df2015raw['shape_area'] = df2015raw['shape_area']/27878400\n"
   ]
  },
  {
   "cell_type": "code",
   "execution_count": 179,
   "metadata": {},
   "outputs": [
    {
     "data": {
      "text/html": [
       "<div>\n",
       "<style scoped>\n",
       "    .dataframe tbody tr th:only-of-type {\n",
       "        vertical-align: middle;\n",
       "    }\n",
       "\n",
       "    .dataframe tbody tr th {\n",
       "        vertical-align: top;\n",
       "    }\n",
       "\n",
       "    .dataframe thead th {\n",
       "        text-align: right;\n",
       "    }\n",
       "</style>\n",
       "<table border=\"1\" class=\"dataframe\">\n",
       "  <thead>\n",
       "    <tr style=\"text-align: right;\">\n",
       "      <th></th>\n",
       "      <th>health</th>\n",
       "      <th>spc_latin</th>\n",
       "      <th>spc_common</th>\n",
       "      <th>borough</th>\n",
       "      <th>ntaname</th>\n",
       "      <th>shape_area</th>\n",
       "    </tr>\n",
       "  </thead>\n",
       "  <tbody>\n",
       "    <tr>\n",
       "      <th>569558</th>\n",
       "      <td>15</td>\n",
       "      <td>quercus palustris</td>\n",
       "      <td>pin oak</td>\n",
       "      <td>queens</td>\n",
       "      <td>astoria</td>\n",
       "      <td>1.410967</td>\n",
       "    </tr>\n",
       "    <tr>\n",
       "      <th>569559</th>\n",
       "      <td>5</td>\n",
       "      <td>gymnocladus dioicus</td>\n",
       "      <td>kentucky coffeetree</td>\n",
       "      <td>queens</td>\n",
       "      <td>astoria</td>\n",
       "      <td>1.410967</td>\n",
       "    </tr>\n",
       "    <tr>\n",
       "      <th>569561</th>\n",
       "      <td>15</td>\n",
       "      <td>quercus rubra</td>\n",
       "      <td>northern red oak</td>\n",
       "      <td>queens</td>\n",
       "      <td>astoria</td>\n",
       "      <td>1.410967</td>\n",
       "    </tr>\n",
       "    <tr>\n",
       "      <th>569562</th>\n",
       "      <td>15</td>\n",
       "      <td>quercus palustris</td>\n",
       "      <td>pin oak</td>\n",
       "      <td>queens</td>\n",
       "      <td>astoria</td>\n",
       "      <td>1.410967</td>\n",
       "    </tr>\n",
       "    <tr>\n",
       "      <th>569563</th>\n",
       "      <td>15</td>\n",
       "      <td>fraxinus pennsylvanica</td>\n",
       "      <td>green ash</td>\n",
       "      <td>queens</td>\n",
       "      <td>astoria</td>\n",
       "      <td>1.410967</td>\n",
       "    </tr>\n",
       "    <tr>\n",
       "      <th>...</th>\n",
       "      <td>...</td>\n",
       "      <td>...</td>\n",
       "      <td>...</td>\n",
       "      <td>...</td>\n",
       "      <td>...</td>\n",
       "      <td>...</td>\n",
       "    </tr>\n",
       "    <tr>\n",
       "      <th>573940</th>\n",
       "      <td>15</td>\n",
       "      <td>gleditsia triacanthos var. inermis</td>\n",
       "      <td>honeylocust</td>\n",
       "      <td>queens</td>\n",
       "      <td>astoria</td>\n",
       "      <td>1.410967</td>\n",
       "    </tr>\n",
       "    <tr>\n",
       "      <th>573941</th>\n",
       "      <td>15</td>\n",
       "      <td>gleditsia triacanthos var. inermis</td>\n",
       "      <td>honeylocust</td>\n",
       "      <td>queens</td>\n",
       "      <td>astoria</td>\n",
       "      <td>1.410967</td>\n",
       "    </tr>\n",
       "    <tr>\n",
       "      <th>573942</th>\n",
       "      <td>15</td>\n",
       "      <td>gleditsia triacanthos var. inermis</td>\n",
       "      <td>honeylocust</td>\n",
       "      <td>queens</td>\n",
       "      <td>astoria</td>\n",
       "      <td>1.410967</td>\n",
       "    </tr>\n",
       "    <tr>\n",
       "      <th>573943</th>\n",
       "      <td>15</td>\n",
       "      <td>gleditsia triacanthos var. inermis</td>\n",
       "      <td>honeylocust</td>\n",
       "      <td>queens</td>\n",
       "      <td>astoria</td>\n",
       "      <td>1.410967</td>\n",
       "    </tr>\n",
       "    <tr>\n",
       "      <th>573944</th>\n",
       "      <td>15</td>\n",
       "      <td>gleditsia triacanthos var. inermis</td>\n",
       "      <td>honeylocust</td>\n",
       "      <td>queens</td>\n",
       "      <td>astoria</td>\n",
       "      <td>1.410967</td>\n",
       "    </tr>\n",
       "  </tbody>\n",
       "</table>\n",
       "<p>4183 rows × 6 columns</p>\n",
       "</div>"
      ],
      "text/plain": [
       "        health                           spc_latin           spc_common  \\\n",
       "569558      15                   quercus palustris              pin oak   \n",
       "569559       5                 gymnocladus dioicus  kentucky coffeetree   \n",
       "569561      15                       quercus rubra     northern red oak   \n",
       "569562      15                   quercus palustris              pin oak   \n",
       "569563      15              fraxinus pennsylvanica            green ash   \n",
       "...        ...                                 ...                  ...   \n",
       "573940      15  gleditsia triacanthos var. inermis          honeylocust   \n",
       "573941      15  gleditsia triacanthos var. inermis          honeylocust   \n",
       "573942      15  gleditsia triacanthos var. inermis          honeylocust   \n",
       "573943      15  gleditsia triacanthos var. inermis          honeylocust   \n",
       "573944      15  gleditsia triacanthos var. inermis          honeylocust   \n",
       "\n",
       "       borough  ntaname  shape_area  \n",
       "569558  queens  astoria    1.410967  \n",
       "569559  queens  astoria    1.410967  \n",
       "569561  queens  astoria    1.410967  \n",
       "569562  queens  astoria    1.410967  \n",
       "569563  queens  astoria    1.410967  \n",
       "...        ...      ...         ...  \n",
       "573940  queens  astoria    1.410967  \n",
       "573941  queens  astoria    1.410967  \n",
       "573942  queens  astoria    1.410967  \n",
       "573943  queens  astoria    1.410967  \n",
       "573944  queens  astoria    1.410967  \n",
       "\n",
       "[4183 rows x 6 columns]"
      ]
     },
     "execution_count": 179,
     "metadata": {},
     "output_type": "execute_result"
    }
   ],
   "source": [
    "df2015raw[df2015raw['ntaname'] == 'astoria']"
   ]
  },
  {
   "cell_type": "markdown",
   "metadata": {},
   "source": [
    "<h1>Group by neighborhoods</h1>"
   ]
  },
  {
   "cell_type": "code",
   "execution_count": 180,
   "metadata": {},
   "outputs": [],
   "source": [
    "df2015raw['count'] = 1\n",
    "df2015_grouped_by_speices = df2015raw.groupby(['ntaname', 'borough', 'spc_common'], as_index=False).agg({'count': ['count'], 'shape_area':['mean']})"
   ]
  },
  {
   "cell_type": "code",
   "execution_count": 181,
   "metadata": {},
   "outputs": [],
   "source": [
    "df2015_grouped_by_speices.columns = df2015_grouped_by_speices.columns.get_level_values(0)"
   ]
  },
  {
   "cell_type": "code",
   "execution_count": 182,
   "metadata": {},
   "outputs": [],
   "source": [
    "df2015_grouped_by_nta = df2015raw.groupby(['ntaname','borough'], as_index=False).agg({'count': ['count'], 'shape_area':['mean'], 'health':['mean']})"
   ]
  },
  {
   "cell_type": "code",
   "execution_count": 183,
   "metadata": {},
   "outputs": [
    {
     "data": {
      "text/html": [
       "<div>\n",
       "<style scoped>\n",
       "    .dataframe tbody tr th:only-of-type {\n",
       "        vertical-align: middle;\n",
       "    }\n",
       "\n",
       "    .dataframe tbody tr th {\n",
       "        vertical-align: top;\n",
       "    }\n",
       "\n",
       "    .dataframe thead th {\n",
       "        text-align: right;\n",
       "    }\n",
       "</style>\n",
       "<table border=\"1\" class=\"dataframe\">\n",
       "  <thead>\n",
       "    <tr style=\"text-align: right;\">\n",
       "      <th></th>\n",
       "      <th>ntaname</th>\n",
       "      <th>borough</th>\n",
       "      <th>count</th>\n",
       "      <th>shape_area</th>\n",
       "      <th>health</th>\n",
       "      <th>trees/sq.mile</th>\n",
       "    </tr>\n",
       "  </thead>\n",
       "  <tbody>\n",
       "    <tr>\n",
       "      <th>0</th>\n",
       "      <td>airport</td>\n",
       "      <td>queens</td>\n",
       "      <td>155</td>\n",
       "      <td>8.185520</td>\n",
       "      <td>14.322581</td>\n",
       "      <td>18.935877</td>\n",
       "    </tr>\n",
       "    <tr>\n",
       "      <th>1</th>\n",
       "      <td>allerton-pelham gardens</td>\n",
       "      <td>bronx</td>\n",
       "      <td>3609</td>\n",
       "      <td>1.136832</td>\n",
       "      <td>13.941535</td>\n",
       "      <td>3174.612844</td>\n",
       "    </tr>\n",
       "    <tr>\n",
       "      <th>2</th>\n",
       "      <td>annadale-huguenot-prince's bay-eltingville</td>\n",
       "      <td>staten island</td>\n",
       "      <td>12538</td>\n",
       "      <td>5.059752</td>\n",
       "      <td>13.418408</td>\n",
       "      <td>2477.987095</td>\n",
       "    </tr>\n",
       "    <tr>\n",
       "      <th>3</th>\n",
       "      <td>arden heights</td>\n",
       "      <td>staten island</td>\n",
       "      <td>6729</td>\n",
       "      <td>1.808239</td>\n",
       "      <td>13.910685</td>\n",
       "      <td>3721.299694</td>\n",
       "    </tr>\n",
       "    <tr>\n",
       "      <th>4</th>\n",
       "      <td>astoria</td>\n",
       "      <td>queens</td>\n",
       "      <td>4183</td>\n",
       "      <td>1.410967</td>\n",
       "      <td>14.040163</td>\n",
       "      <td>2964.632633</td>\n",
       "    </tr>\n",
       "    <tr>\n",
       "      <th>...</th>\n",
       "      <td>...</td>\n",
       "      <td>...</td>\n",
       "      <td>...</td>\n",
       "      <td>...</td>\n",
       "      <td>...</td>\n",
       "      <td>...</td>\n",
       "    </tr>\n",
       "    <tr>\n",
       "      <th>192</th>\n",
       "      <td>windsor terrace</td>\n",
       "      <td>brooklyn</td>\n",
       "      <td>2030</td>\n",
       "      <td>0.503676</td>\n",
       "      <td>14.098522</td>\n",
       "      <td>4030.372441</td>\n",
       "    </tr>\n",
       "    <tr>\n",
       "      <th>193</th>\n",
       "      <td>woodhaven</td>\n",
       "      <td>queens</td>\n",
       "      <td>3956</td>\n",
       "      <td>1.327208</td>\n",
       "      <td>14.122851</td>\n",
       "      <td>2980.693636</td>\n",
       "    </tr>\n",
       "    <tr>\n",
       "      <th>194</th>\n",
       "      <td>woodlawn-wakefield</td>\n",
       "      <td>bronx</td>\n",
       "      <td>3802</td>\n",
       "      <td>1.425433</td>\n",
       "      <td>14.251710</td>\n",
       "      <td>2667.260036</td>\n",
       "    </tr>\n",
       "    <tr>\n",
       "      <th>195</th>\n",
       "      <td>woodside</td>\n",
       "      <td>queens</td>\n",
       "      <td>2610</td>\n",
       "      <td>1.013265</td>\n",
       "      <td>13.802682</td>\n",
       "      <td>2575.830528</td>\n",
       "    </tr>\n",
       "    <tr>\n",
       "      <th>196</th>\n",
       "      <td>yorkville</td>\n",
       "      <td>manhattan</td>\n",
       "      <td>2133</td>\n",
       "      <td>0.487907</td>\n",
       "      <td>13.124707</td>\n",
       "      <td>4371.735539</td>\n",
       "    </tr>\n",
       "  </tbody>\n",
       "</table>\n",
       "<p>197 rows × 6 columns</p>\n",
       "</div>"
      ],
      "text/plain": [
       "                                        ntaname        borough  count  \\\n",
       "0                                       airport         queens    155   \n",
       "1                       allerton-pelham gardens          bronx   3609   \n",
       "2    annadale-huguenot-prince's bay-eltingville  staten island  12538   \n",
       "3                                 arden heights  staten island   6729   \n",
       "4                                       astoria         queens   4183   \n",
       "..                                          ...            ...    ...   \n",
       "192                             windsor terrace       brooklyn   2030   \n",
       "193                                   woodhaven         queens   3956   \n",
       "194                          woodlawn-wakefield          bronx   3802   \n",
       "195                                    woodside         queens   2610   \n",
       "196                                   yorkville      manhattan   2133   \n",
       "\n",
       "     shape_area     health  trees/sq.mile  \n",
       "0      8.185520  14.322581      18.935877  \n",
       "1      1.136832  13.941535    3174.612844  \n",
       "2      5.059752  13.418408    2477.987095  \n",
       "3      1.808239  13.910685    3721.299694  \n",
       "4      1.410967  14.040163    2964.632633  \n",
       "..          ...        ...            ...  \n",
       "192    0.503676  14.098522    4030.372441  \n",
       "193    1.327208  14.122851    2980.693636  \n",
       "194    1.425433  14.251710    2667.260036  \n",
       "195    1.013265  13.802682    2575.830528  \n",
       "196    0.487907  13.124707    4371.735539  \n",
       "\n",
       "[197 rows x 6 columns]"
      ]
     },
     "execution_count": 183,
     "metadata": {},
     "output_type": "execute_result"
    }
   ],
   "source": [
    "df2015_grouped_by_nta.columns = df2015_grouped_by_nta.columns.get_level_values(0)\n",
    "df2015_grouped_by_nta['trees/sq.mile'] = df2015_grouped_by_nta['count']/df2015_grouped_by_nta['shape_area']\n",
    "df2015_grouped_by_nta"
   ]
  },
  {
   "cell_type": "code",
   "execution_count": 197,
   "metadata": {},
   "outputs": [
    {
     "data": {
      "text/html": [
       "<div>\n",
       "<style scoped>\n",
       "    .dataframe tbody tr th:only-of-type {\n",
       "        vertical-align: middle;\n",
       "    }\n",
       "\n",
       "    .dataframe tbody tr th {\n",
       "        vertical-align: top;\n",
       "    }\n",
       "\n",
       "    .dataframe thead th {\n",
       "        text-align: right;\n",
       "    }\n",
       "</style>\n",
       "<table border=\"1\" class=\"dataframe\">\n",
       "  <thead>\n",
       "    <tr style=\"text-align: right;\">\n",
       "      <th></th>\n",
       "      <th>ntaname</th>\n",
       "      <th>borough</th>\n",
       "      <th>count</th>\n",
       "      <th>shape_area</th>\n",
       "      <th>health</th>\n",
       "      <th>trees/sq.mile</th>\n",
       "    </tr>\n",
       "  </thead>\n",
       "  <tbody>\n",
       "    <tr>\n",
       "      <th>0</th>\n",
       "      <td>airport</td>\n",
       "      <td>queens</td>\n",
       "      <td>155</td>\n",
       "      <td>8.185520</td>\n",
       "      <td>14.322581</td>\n",
       "      <td>18.935877</td>\n",
       "    </tr>\n",
       "    <tr>\n",
       "      <th>1</th>\n",
       "      <td>allerton-pelham gardens</td>\n",
       "      <td>bronx</td>\n",
       "      <td>3609</td>\n",
       "      <td>1.136832</td>\n",
       "      <td>13.941535</td>\n",
       "      <td>3174.612844</td>\n",
       "    </tr>\n",
       "    <tr>\n",
       "      <th>2</th>\n",
       "      <td>annadale-huguenot-prince's bay-eltingville</td>\n",
       "      <td>staten island</td>\n",
       "      <td>12538</td>\n",
       "      <td>5.059752</td>\n",
       "      <td>13.418408</td>\n",
       "      <td>2477.987095</td>\n",
       "    </tr>\n",
       "    <tr>\n",
       "      <th>3</th>\n",
       "      <td>arden heights</td>\n",
       "      <td>staten island</td>\n",
       "      <td>6729</td>\n",
       "      <td>1.808239</td>\n",
       "      <td>13.910685</td>\n",
       "      <td>3721.299694</td>\n",
       "    </tr>\n",
       "    <tr>\n",
       "      <th>4</th>\n",
       "      <td>astoria</td>\n",
       "      <td>queens</td>\n",
       "      <td>4183</td>\n",
       "      <td>1.410967</td>\n",
       "      <td>14.040163</td>\n",
       "      <td>2964.632633</td>\n",
       "    </tr>\n",
       "    <tr>\n",
       "      <th>...</th>\n",
       "      <td>...</td>\n",
       "      <td>...</td>\n",
       "      <td>...</td>\n",
       "      <td>...</td>\n",
       "      <td>...</td>\n",
       "      <td>...</td>\n",
       "    </tr>\n",
       "    <tr>\n",
       "      <th>192</th>\n",
       "      <td>windsor terrace</td>\n",
       "      <td>brooklyn</td>\n",
       "      <td>2030</td>\n",
       "      <td>0.503676</td>\n",
       "      <td>14.098522</td>\n",
       "      <td>4030.372441</td>\n",
       "    </tr>\n",
       "    <tr>\n",
       "      <th>193</th>\n",
       "      <td>woodhaven</td>\n",
       "      <td>queens</td>\n",
       "      <td>3956</td>\n",
       "      <td>1.327208</td>\n",
       "      <td>14.122851</td>\n",
       "      <td>2980.693636</td>\n",
       "    </tr>\n",
       "    <tr>\n",
       "      <th>194</th>\n",
       "      <td>woodlawn-wakefield</td>\n",
       "      <td>bronx</td>\n",
       "      <td>3802</td>\n",
       "      <td>1.425433</td>\n",
       "      <td>14.251710</td>\n",
       "      <td>2667.260036</td>\n",
       "    </tr>\n",
       "    <tr>\n",
       "      <th>195</th>\n",
       "      <td>woodside</td>\n",
       "      <td>queens</td>\n",
       "      <td>2610</td>\n",
       "      <td>1.013265</td>\n",
       "      <td>13.802682</td>\n",
       "      <td>2575.830528</td>\n",
       "    </tr>\n",
       "    <tr>\n",
       "      <th>196</th>\n",
       "      <td>yorkville</td>\n",
       "      <td>manhattan</td>\n",
       "      <td>2133</td>\n",
       "      <td>0.487907</td>\n",
       "      <td>13.124707</td>\n",
       "      <td>4371.735539</td>\n",
       "    </tr>\n",
       "  </tbody>\n",
       "</table>\n",
       "<p>197 rows × 6 columns</p>\n",
       "</div>"
      ],
      "text/plain": [
       "                                        ntaname        borough  count  \\\n",
       "0                                       airport         queens    155   \n",
       "1                       allerton-pelham gardens          bronx   3609   \n",
       "2    annadale-huguenot-prince's bay-eltingville  staten island  12538   \n",
       "3                                 arden heights  staten island   6729   \n",
       "4                                       astoria         queens   4183   \n",
       "..                                          ...            ...    ...   \n",
       "192                             windsor terrace       brooklyn   2030   \n",
       "193                                   woodhaven         queens   3956   \n",
       "194                          woodlawn-wakefield          bronx   3802   \n",
       "195                                    woodside         queens   2610   \n",
       "196                                   yorkville      manhattan   2133   \n",
       "\n",
       "     shape_area     health  trees/sq.mile  \n",
       "0      8.185520  14.322581      18.935877  \n",
       "1      1.136832  13.941535    3174.612844  \n",
       "2      5.059752  13.418408    2477.987095  \n",
       "3      1.808239  13.910685    3721.299694  \n",
       "4      1.410967  14.040163    2964.632633  \n",
       "..          ...        ...            ...  \n",
       "192    0.503676  14.098522    4030.372441  \n",
       "193    1.327208  14.122851    2980.693636  \n",
       "194    1.425433  14.251710    2667.260036  \n",
       "195    1.013265  13.802682    2575.830528  \n",
       "196    0.487907  13.124707    4371.735539  \n",
       "\n",
       "[197 rows x 6 columns]"
      ]
     },
     "execution_count": 197,
     "metadata": {},
     "output_type": "execute_result"
    }
   ],
   "source": [
    "df2015_grouped_by_nta"
   ]
  },
  {
   "cell_type": "code",
   "execution_count": 184,
   "metadata": {},
   "outputs": [
    {
     "name": "stdout",
     "output_type": "stream",
     "text": [
      "<class 'pandas.core.frame.DataFrame'>\n",
      "Int64Index: 16338 entries, 0 to 16337\n",
      "Data columns (total 10 columns):\n",
      " #   Column         Non-Null Count  Dtype  \n",
      "---  ------         --------------  -----  \n",
      " 0   ntaname        16338 non-null  object \n",
      " 1   borough_x      16338 non-null  object \n",
      " 2   spc_common     16338 non-null  object \n",
      " 3   count_x        16338 non-null  int64  \n",
      " 4   shape_area_x   16338 non-null  float64\n",
      " 5   borough_y      16338 non-null  object \n",
      " 6   count_y        16338 non-null  int64  \n",
      " 7   shape_area_y   16338 non-null  float64\n",
      " 8   health         16338 non-null  float64\n",
      " 9   trees/sq.mile  16338 non-null  float64\n",
      "dtypes: float64(4), int64(2), object(4)\n",
      "memory usage: 1.4+ MB\n"
     ]
    }
   ],
   "source": [
    "#df2015_grouped_by_speices['total']=np.where(df2015_grouped_by_speices['ntaname'] == df2015_grouped_by_nta['ntaname'], df2015_grouped_by_speices['count']/df2015_grouped_by_nta['count']) \n",
    "#df['$/hour'] = np.where(df['hours'] < 1, df['hours'], df['$']/df['hours'])\n",
    "final_df = pd.merge(df2015_grouped_by_speices, df2015_grouped_by_nta, on='ntaname', how='outer')\n",
    "final_df.info()"
   ]
  },
  {
   "cell_type": "code",
   "execution_count": 185,
   "metadata": {},
   "outputs": [
    {
     "data": {
      "text/html": [
       "<div>\n",
       "<style scoped>\n",
       "    .dataframe tbody tr th:only-of-type {\n",
       "        vertical-align: middle;\n",
       "    }\n",
       "\n",
       "    .dataframe tbody tr th {\n",
       "        vertical-align: top;\n",
       "    }\n",
       "\n",
       "    .dataframe thead th {\n",
       "        text-align: right;\n",
       "    }\n",
       "</style>\n",
       "<table border=\"1\" class=\"dataframe\">\n",
       "  <thead>\n",
       "    <tr style=\"text-align: right;\">\n",
       "      <th></th>\n",
       "      <th>ntaname</th>\n",
       "      <th>borough_x</th>\n",
       "      <th>spc_common</th>\n",
       "      <th>count_x</th>\n",
       "      <th>shape_area_x</th>\n",
       "      <th>borough_y</th>\n",
       "      <th>count_y</th>\n",
       "      <th>shape_area_y</th>\n",
       "      <th>health</th>\n",
       "      <th>trees/sq.mile</th>\n",
       "    </tr>\n",
       "  </thead>\n",
       "  <tbody>\n",
       "    <tr>\n",
       "      <th>0</th>\n",
       "      <td>airport</td>\n",
       "      <td>queens</td>\n",
       "      <td>american hornbeam</td>\n",
       "      <td>5</td>\n",
       "      <td>8.18552</td>\n",
       "      <td>queens</td>\n",
       "      <td>155</td>\n",
       "      <td>8.18552</td>\n",
       "      <td>14.322581</td>\n",
       "      <td>18.935877</td>\n",
       "    </tr>\n",
       "    <tr>\n",
       "      <th>1</th>\n",
       "      <td>airport</td>\n",
       "      <td>queens</td>\n",
       "      <td>amur maple</td>\n",
       "      <td>2</td>\n",
       "      <td>8.18552</td>\n",
       "      <td>queens</td>\n",
       "      <td>155</td>\n",
       "      <td>8.18552</td>\n",
       "      <td>14.322581</td>\n",
       "      <td>18.935877</td>\n",
       "    </tr>\n",
       "    <tr>\n",
       "      <th>2</th>\n",
       "      <td>airport</td>\n",
       "      <td>queens</td>\n",
       "      <td>black locust</td>\n",
       "      <td>8</td>\n",
       "      <td>8.18552</td>\n",
       "      <td>queens</td>\n",
       "      <td>155</td>\n",
       "      <td>8.18552</td>\n",
       "      <td>14.322581</td>\n",
       "      <td>18.935877</td>\n",
       "    </tr>\n",
       "    <tr>\n",
       "      <th>3</th>\n",
       "      <td>airport</td>\n",
       "      <td>queens</td>\n",
       "      <td>callery pear</td>\n",
       "      <td>9</td>\n",
       "      <td>8.18552</td>\n",
       "      <td>queens</td>\n",
       "      <td>155</td>\n",
       "      <td>8.18552</td>\n",
       "      <td>14.322581</td>\n",
       "      <td>18.935877</td>\n",
       "    </tr>\n",
       "    <tr>\n",
       "      <th>4</th>\n",
       "      <td>airport</td>\n",
       "      <td>queens</td>\n",
       "      <td>cherry</td>\n",
       "      <td>3</td>\n",
       "      <td>8.18552</td>\n",
       "      <td>queens</td>\n",
       "      <td>155</td>\n",
       "      <td>8.18552</td>\n",
       "      <td>14.322581</td>\n",
       "      <td>18.935877</td>\n",
       "    </tr>\n",
       "  </tbody>\n",
       "</table>\n",
       "</div>"
      ],
      "text/plain": [
       "   ntaname borough_x         spc_common  count_x  shape_area_x borough_y  \\\n",
       "0  airport    queens  american hornbeam        5       8.18552    queens   \n",
       "1  airport    queens         amur maple        2       8.18552    queens   \n",
       "2  airport    queens       black locust        8       8.18552    queens   \n",
       "3  airport    queens       callery pear        9       8.18552    queens   \n",
       "4  airport    queens             cherry        3       8.18552    queens   \n",
       "\n",
       "   count_y  shape_area_y     health  trees/sq.mile  \n",
       "0      155       8.18552  14.322581      18.935877  \n",
       "1      155       8.18552  14.322581      18.935877  \n",
       "2      155       8.18552  14.322581      18.935877  \n",
       "3      155       8.18552  14.322581      18.935877  \n",
       "4      155       8.18552  14.322581      18.935877  "
      ]
     },
     "execution_count": 185,
     "metadata": {},
     "output_type": "execute_result"
    }
   ],
   "source": [
    "final_df.head()"
   ]
  },
  {
   "cell_type": "code",
   "execution_count": 186,
   "metadata": {},
   "outputs": [
    {
     "data": {
      "text/plain": [
       "Index(['ntaname', 'borough', 'spc_common', 'count', 'area', 'total', 'health',\n",
       "       'trees/sq.mile'],\n",
       "      dtype='object')"
      ]
     },
     "execution_count": 186,
     "metadata": {},
     "output_type": "execute_result"
    }
   ],
   "source": [
    "final_df.drop(columns = ['borough_y', 'shape_area_y'], inplace=True)\n",
    "final_df.rename(columns={'borough_x': 'borough', 'count_x': 'count', 'count_y': 'total', 'shape_area_x': 'area'}, inplace=True)\n",
    "final_df.columns"
   ]
  },
  {
   "cell_type": "code",
   "execution_count": 187,
   "metadata": {},
   "outputs": [
    {
     "data": {
      "text/html": [
       "<div>\n",
       "<style scoped>\n",
       "    .dataframe tbody tr th:only-of-type {\n",
       "        vertical-align: middle;\n",
       "    }\n",
       "\n",
       "    .dataframe tbody tr th {\n",
       "        vertical-align: top;\n",
       "    }\n",
       "\n",
       "    .dataframe thead th {\n",
       "        text-align: right;\n",
       "    }\n",
       "</style>\n",
       "<table border=\"1\" class=\"dataframe\">\n",
       "  <thead>\n",
       "    <tr style=\"text-align: right;\">\n",
       "      <th></th>\n",
       "      <th>ntaname</th>\n",
       "      <th>borough</th>\n",
       "      <th>spc_common</th>\n",
       "      <th>count</th>\n",
       "      <th>area</th>\n",
       "      <th>total</th>\n",
       "      <th>health</th>\n",
       "      <th>trees/sq.mile</th>\n",
       "      <th>speices %</th>\n",
       "    </tr>\n",
       "  </thead>\n",
       "  <tbody>\n",
       "    <tr>\n",
       "      <th>0</th>\n",
       "      <td>airport</td>\n",
       "      <td>queens</td>\n",
       "      <td>american hornbeam</td>\n",
       "      <td>5</td>\n",
       "      <td>8.18552</td>\n",
       "      <td>155</td>\n",
       "      <td>14.322581</td>\n",
       "      <td>18.935877</td>\n",
       "      <td>3.225806</td>\n",
       "    </tr>\n",
       "    <tr>\n",
       "      <th>1</th>\n",
       "      <td>airport</td>\n",
       "      <td>queens</td>\n",
       "      <td>amur maple</td>\n",
       "      <td>2</td>\n",
       "      <td>8.18552</td>\n",
       "      <td>155</td>\n",
       "      <td>14.322581</td>\n",
       "      <td>18.935877</td>\n",
       "      <td>1.290323</td>\n",
       "    </tr>\n",
       "    <tr>\n",
       "      <th>2</th>\n",
       "      <td>airport</td>\n",
       "      <td>queens</td>\n",
       "      <td>black locust</td>\n",
       "      <td>8</td>\n",
       "      <td>8.18552</td>\n",
       "      <td>155</td>\n",
       "      <td>14.322581</td>\n",
       "      <td>18.935877</td>\n",
       "      <td>5.161290</td>\n",
       "    </tr>\n",
       "    <tr>\n",
       "      <th>3</th>\n",
       "      <td>airport</td>\n",
       "      <td>queens</td>\n",
       "      <td>callery pear</td>\n",
       "      <td>9</td>\n",
       "      <td>8.18552</td>\n",
       "      <td>155</td>\n",
       "      <td>14.322581</td>\n",
       "      <td>18.935877</td>\n",
       "      <td>5.806452</td>\n",
       "    </tr>\n",
       "    <tr>\n",
       "      <th>4</th>\n",
       "      <td>airport</td>\n",
       "      <td>queens</td>\n",
       "      <td>cherry</td>\n",
       "      <td>3</td>\n",
       "      <td>8.18552</td>\n",
       "      <td>155</td>\n",
       "      <td>14.322581</td>\n",
       "      <td>18.935877</td>\n",
       "      <td>1.935484</td>\n",
       "    </tr>\n",
       "    <tr>\n",
       "      <th>5</th>\n",
       "      <td>airport</td>\n",
       "      <td>queens</td>\n",
       "      <td>crab apple</td>\n",
       "      <td>1</td>\n",
       "      <td>8.18552</td>\n",
       "      <td>155</td>\n",
       "      <td>14.322581</td>\n",
       "      <td>18.935877</td>\n",
       "      <td>0.645161</td>\n",
       "    </tr>\n",
       "    <tr>\n",
       "      <th>6</th>\n",
       "      <td>airport</td>\n",
       "      <td>queens</td>\n",
       "      <td>dawn redwood</td>\n",
       "      <td>1</td>\n",
       "      <td>8.18552</td>\n",
       "      <td>155</td>\n",
       "      <td>14.322581</td>\n",
       "      <td>18.935877</td>\n",
       "      <td>0.645161</td>\n",
       "    </tr>\n",
       "    <tr>\n",
       "      <th>7</th>\n",
       "      <td>airport</td>\n",
       "      <td>queens</td>\n",
       "      <td>english oak</td>\n",
       "      <td>2</td>\n",
       "      <td>8.18552</td>\n",
       "      <td>155</td>\n",
       "      <td>14.322581</td>\n",
       "      <td>18.935877</td>\n",
       "      <td>1.290323</td>\n",
       "    </tr>\n",
       "    <tr>\n",
       "      <th>8</th>\n",
       "      <td>airport</td>\n",
       "      <td>queens</td>\n",
       "      <td>ginkgo</td>\n",
       "      <td>1</td>\n",
       "      <td>8.18552</td>\n",
       "      <td>155</td>\n",
       "      <td>14.322581</td>\n",
       "      <td>18.935877</td>\n",
       "      <td>0.645161</td>\n",
       "    </tr>\n",
       "    <tr>\n",
       "      <th>9</th>\n",
       "      <td>airport</td>\n",
       "      <td>queens</td>\n",
       "      <td>golden raintree</td>\n",
       "      <td>3</td>\n",
       "      <td>8.18552</td>\n",
       "      <td>155</td>\n",
       "      <td>14.322581</td>\n",
       "      <td>18.935877</td>\n",
       "      <td>1.935484</td>\n",
       "    </tr>\n",
       "    <tr>\n",
       "      <th>10</th>\n",
       "      <td>airport</td>\n",
       "      <td>queens</td>\n",
       "      <td>hawthorn</td>\n",
       "      <td>2</td>\n",
       "      <td>8.18552</td>\n",
       "      <td>155</td>\n",
       "      <td>14.322581</td>\n",
       "      <td>18.935877</td>\n",
       "      <td>1.290323</td>\n",
       "    </tr>\n",
       "    <tr>\n",
       "      <th>11</th>\n",
       "      <td>airport</td>\n",
       "      <td>queens</td>\n",
       "      <td>honeylocust</td>\n",
       "      <td>50</td>\n",
       "      <td>8.18552</td>\n",
       "      <td>155</td>\n",
       "      <td>14.322581</td>\n",
       "      <td>18.935877</td>\n",
       "      <td>32.258065</td>\n",
       "    </tr>\n",
       "    <tr>\n",
       "      <th>12</th>\n",
       "      <td>airport</td>\n",
       "      <td>queens</td>\n",
       "      <td>japanese tree lilac</td>\n",
       "      <td>1</td>\n",
       "      <td>8.18552</td>\n",
       "      <td>155</td>\n",
       "      <td>14.322581</td>\n",
       "      <td>18.935877</td>\n",
       "      <td>0.645161</td>\n",
       "    </tr>\n",
       "    <tr>\n",
       "      <th>13</th>\n",
       "      <td>airport</td>\n",
       "      <td>queens</td>\n",
       "      <td>japanese zelkova</td>\n",
       "      <td>3</td>\n",
       "      <td>8.18552</td>\n",
       "      <td>155</td>\n",
       "      <td>14.322581</td>\n",
       "      <td>18.935877</td>\n",
       "      <td>1.935484</td>\n",
       "    </tr>\n",
       "    <tr>\n",
       "      <th>14</th>\n",
       "      <td>airport</td>\n",
       "      <td>queens</td>\n",
       "      <td>littleleaf linden</td>\n",
       "      <td>2</td>\n",
       "      <td>8.18552</td>\n",
       "      <td>155</td>\n",
       "      <td>14.322581</td>\n",
       "      <td>18.935877</td>\n",
       "      <td>1.290323</td>\n",
       "    </tr>\n",
       "    <tr>\n",
       "      <th>15</th>\n",
       "      <td>airport</td>\n",
       "      <td>queens</td>\n",
       "      <td>london planetree</td>\n",
       "      <td>2</td>\n",
       "      <td>8.18552</td>\n",
       "      <td>155</td>\n",
       "      <td>14.322581</td>\n",
       "      <td>18.935877</td>\n",
       "      <td>1.290323</td>\n",
       "    </tr>\n",
       "    <tr>\n",
       "      <th>16</th>\n",
       "      <td>airport</td>\n",
       "      <td>queens</td>\n",
       "      <td>mulberry</td>\n",
       "      <td>2</td>\n",
       "      <td>8.18552</td>\n",
       "      <td>155</td>\n",
       "      <td>14.322581</td>\n",
       "      <td>18.935877</td>\n",
       "      <td>1.290323</td>\n",
       "    </tr>\n",
       "    <tr>\n",
       "      <th>17</th>\n",
       "      <td>airport</td>\n",
       "      <td>queens</td>\n",
       "      <td>northern red oak</td>\n",
       "      <td>3</td>\n",
       "      <td>8.18552</td>\n",
       "      <td>155</td>\n",
       "      <td>14.322581</td>\n",
       "      <td>18.935877</td>\n",
       "      <td>1.935484</td>\n",
       "    </tr>\n",
       "    <tr>\n",
       "      <th>18</th>\n",
       "      <td>airport</td>\n",
       "      <td>queens</td>\n",
       "      <td>norway maple</td>\n",
       "      <td>1</td>\n",
       "      <td>8.18552</td>\n",
       "      <td>155</td>\n",
       "      <td>14.322581</td>\n",
       "      <td>18.935877</td>\n",
       "      <td>0.645161</td>\n",
       "    </tr>\n",
       "    <tr>\n",
       "      <th>19</th>\n",
       "      <td>airport</td>\n",
       "      <td>queens</td>\n",
       "      <td>oklahoma redbud</td>\n",
       "      <td>1</td>\n",
       "      <td>8.18552</td>\n",
       "      <td>155</td>\n",
       "      <td>14.322581</td>\n",
       "      <td>18.935877</td>\n",
       "      <td>0.645161</td>\n",
       "    </tr>\n",
       "  </tbody>\n",
       "</table>\n",
       "</div>"
      ],
      "text/plain": [
       "    ntaname borough           spc_common  count     area  total     health  \\\n",
       "0   airport  queens    american hornbeam      5  8.18552    155  14.322581   \n",
       "1   airport  queens           amur maple      2  8.18552    155  14.322581   \n",
       "2   airport  queens         black locust      8  8.18552    155  14.322581   \n",
       "3   airport  queens         callery pear      9  8.18552    155  14.322581   \n",
       "4   airport  queens               cherry      3  8.18552    155  14.322581   \n",
       "5   airport  queens           crab apple      1  8.18552    155  14.322581   \n",
       "6   airport  queens         dawn redwood      1  8.18552    155  14.322581   \n",
       "7   airport  queens          english oak      2  8.18552    155  14.322581   \n",
       "8   airport  queens               ginkgo      1  8.18552    155  14.322581   \n",
       "9   airport  queens      golden raintree      3  8.18552    155  14.322581   \n",
       "10  airport  queens             hawthorn      2  8.18552    155  14.322581   \n",
       "11  airport  queens          honeylocust     50  8.18552    155  14.322581   \n",
       "12  airport  queens  japanese tree lilac      1  8.18552    155  14.322581   \n",
       "13  airport  queens     japanese zelkova      3  8.18552    155  14.322581   \n",
       "14  airport  queens    littleleaf linden      2  8.18552    155  14.322581   \n",
       "15  airport  queens     london planetree      2  8.18552    155  14.322581   \n",
       "16  airport  queens             mulberry      2  8.18552    155  14.322581   \n",
       "17  airport  queens     northern red oak      3  8.18552    155  14.322581   \n",
       "18  airport  queens         norway maple      1  8.18552    155  14.322581   \n",
       "19  airport  queens      oklahoma redbud      1  8.18552    155  14.322581   \n",
       "\n",
       "    trees/sq.mile  speices %  \n",
       "0       18.935877   3.225806  \n",
       "1       18.935877   1.290323  \n",
       "2       18.935877   5.161290  \n",
       "3       18.935877   5.806452  \n",
       "4       18.935877   1.935484  \n",
       "5       18.935877   0.645161  \n",
       "6       18.935877   0.645161  \n",
       "7       18.935877   1.290323  \n",
       "8       18.935877   0.645161  \n",
       "9       18.935877   1.935484  \n",
       "10      18.935877   1.290323  \n",
       "11      18.935877  32.258065  \n",
       "12      18.935877   0.645161  \n",
       "13      18.935877   1.935484  \n",
       "14      18.935877   1.290323  \n",
       "15      18.935877   1.290323  \n",
       "16      18.935877   1.290323  \n",
       "17      18.935877   1.935484  \n",
       "18      18.935877   0.645161  \n",
       "19      18.935877   0.645161  "
      ]
     },
     "execution_count": 187,
     "metadata": {},
     "output_type": "execute_result"
    }
   ],
   "source": [
    "final_df['speices %'] = final_df['count']/final_df['total']*100\n",
    "final_df['trees/sq.mile'] = final_df['total']/final_df['area']\n",
    "final_df.head(20)"
   ]
  },
  {
   "cell_type": "code",
   "execution_count": 188,
   "metadata": {},
   "outputs": [
    {
     "data": {
      "text/html": [
       "<div>\n",
       "<style scoped>\n",
       "    .dataframe tbody tr th:only-of-type {\n",
       "        vertical-align: middle;\n",
       "    }\n",
       "\n",
       "    .dataframe tbody tr th {\n",
       "        vertical-align: top;\n",
       "    }\n",
       "\n",
       "    .dataframe thead th {\n",
       "        text-align: right;\n",
       "    }\n",
       "</style>\n",
       "<table border=\"1\" class=\"dataframe\">\n",
       "  <thead>\n",
       "    <tr style=\"text-align: right;\">\n",
       "      <th></th>\n",
       "      <th></th>\n",
       "      <th></th>\n",
       "      <th>count</th>\n",
       "      <th>area</th>\n",
       "      <th>total</th>\n",
       "      <th>health</th>\n",
       "      <th>trees/sq.mile</th>\n",
       "      <th>speices %</th>\n",
       "    </tr>\n",
       "    <tr>\n",
       "      <th>ntaname</th>\n",
       "      <th>borough</th>\n",
       "      <th>spc_common</th>\n",
       "      <th></th>\n",
       "      <th></th>\n",
       "      <th></th>\n",
       "      <th></th>\n",
       "      <th></th>\n",
       "      <th></th>\n",
       "    </tr>\n",
       "  </thead>\n",
       "  <tbody>\n",
       "    <tr>\n",
       "      <th rowspan=\"20\" valign=\"top\">airport</th>\n",
       "      <th rowspan=\"20\" valign=\"top\">queens</th>\n",
       "      <th>american hornbeam</th>\n",
       "      <td>5.0</td>\n",
       "      <td>8.18552</td>\n",
       "      <td>155.0</td>\n",
       "      <td>14.322581</td>\n",
       "      <td>18.935877</td>\n",
       "      <td>3.225806</td>\n",
       "    </tr>\n",
       "    <tr>\n",
       "      <th>amur maple</th>\n",
       "      <td>2.0</td>\n",
       "      <td>8.18552</td>\n",
       "      <td>155.0</td>\n",
       "      <td>14.322581</td>\n",
       "      <td>18.935877</td>\n",
       "      <td>1.290323</td>\n",
       "    </tr>\n",
       "    <tr>\n",
       "      <th>black locust</th>\n",
       "      <td>8.0</td>\n",
       "      <td>8.18552</td>\n",
       "      <td>155.0</td>\n",
       "      <td>14.322581</td>\n",
       "      <td>18.935877</td>\n",
       "      <td>5.161290</td>\n",
       "    </tr>\n",
       "    <tr>\n",
       "      <th>callery pear</th>\n",
       "      <td>9.0</td>\n",
       "      <td>8.18552</td>\n",
       "      <td>155.0</td>\n",
       "      <td>14.322581</td>\n",
       "      <td>18.935877</td>\n",
       "      <td>5.806452</td>\n",
       "    </tr>\n",
       "    <tr>\n",
       "      <th>cherry</th>\n",
       "      <td>3.0</td>\n",
       "      <td>8.18552</td>\n",
       "      <td>155.0</td>\n",
       "      <td>14.322581</td>\n",
       "      <td>18.935877</td>\n",
       "      <td>1.935484</td>\n",
       "    </tr>\n",
       "    <tr>\n",
       "      <th>crab apple</th>\n",
       "      <td>1.0</td>\n",
       "      <td>8.18552</td>\n",
       "      <td>155.0</td>\n",
       "      <td>14.322581</td>\n",
       "      <td>18.935877</td>\n",
       "      <td>0.645161</td>\n",
       "    </tr>\n",
       "    <tr>\n",
       "      <th>dawn redwood</th>\n",
       "      <td>1.0</td>\n",
       "      <td>8.18552</td>\n",
       "      <td>155.0</td>\n",
       "      <td>14.322581</td>\n",
       "      <td>18.935877</td>\n",
       "      <td>0.645161</td>\n",
       "    </tr>\n",
       "    <tr>\n",
       "      <th>english oak</th>\n",
       "      <td>2.0</td>\n",
       "      <td>8.18552</td>\n",
       "      <td>155.0</td>\n",
       "      <td>14.322581</td>\n",
       "      <td>18.935877</td>\n",
       "      <td>1.290323</td>\n",
       "    </tr>\n",
       "    <tr>\n",
       "      <th>ginkgo</th>\n",
       "      <td>1.0</td>\n",
       "      <td>8.18552</td>\n",
       "      <td>155.0</td>\n",
       "      <td>14.322581</td>\n",
       "      <td>18.935877</td>\n",
       "      <td>0.645161</td>\n",
       "    </tr>\n",
       "    <tr>\n",
       "      <th>golden raintree</th>\n",
       "      <td>3.0</td>\n",
       "      <td>8.18552</td>\n",
       "      <td>155.0</td>\n",
       "      <td>14.322581</td>\n",
       "      <td>18.935877</td>\n",
       "      <td>1.935484</td>\n",
       "    </tr>\n",
       "    <tr>\n",
       "      <th>hawthorn</th>\n",
       "      <td>2.0</td>\n",
       "      <td>8.18552</td>\n",
       "      <td>155.0</td>\n",
       "      <td>14.322581</td>\n",
       "      <td>18.935877</td>\n",
       "      <td>1.290323</td>\n",
       "    </tr>\n",
       "    <tr>\n",
       "      <th>honeylocust</th>\n",
       "      <td>50.0</td>\n",
       "      <td>8.18552</td>\n",
       "      <td>155.0</td>\n",
       "      <td>14.322581</td>\n",
       "      <td>18.935877</td>\n",
       "      <td>32.258065</td>\n",
       "    </tr>\n",
       "    <tr>\n",
       "      <th>japanese tree lilac</th>\n",
       "      <td>1.0</td>\n",
       "      <td>8.18552</td>\n",
       "      <td>155.0</td>\n",
       "      <td>14.322581</td>\n",
       "      <td>18.935877</td>\n",
       "      <td>0.645161</td>\n",
       "    </tr>\n",
       "    <tr>\n",
       "      <th>japanese zelkova</th>\n",
       "      <td>3.0</td>\n",
       "      <td>8.18552</td>\n",
       "      <td>155.0</td>\n",
       "      <td>14.322581</td>\n",
       "      <td>18.935877</td>\n",
       "      <td>1.935484</td>\n",
       "    </tr>\n",
       "    <tr>\n",
       "      <th>littleleaf linden</th>\n",
       "      <td>2.0</td>\n",
       "      <td>8.18552</td>\n",
       "      <td>155.0</td>\n",
       "      <td>14.322581</td>\n",
       "      <td>18.935877</td>\n",
       "      <td>1.290323</td>\n",
       "    </tr>\n",
       "    <tr>\n",
       "      <th>london planetree</th>\n",
       "      <td>2.0</td>\n",
       "      <td>8.18552</td>\n",
       "      <td>155.0</td>\n",
       "      <td>14.322581</td>\n",
       "      <td>18.935877</td>\n",
       "      <td>1.290323</td>\n",
       "    </tr>\n",
       "    <tr>\n",
       "      <th>mulberry</th>\n",
       "      <td>2.0</td>\n",
       "      <td>8.18552</td>\n",
       "      <td>155.0</td>\n",
       "      <td>14.322581</td>\n",
       "      <td>18.935877</td>\n",
       "      <td>1.290323</td>\n",
       "    </tr>\n",
       "    <tr>\n",
       "      <th>northern red oak</th>\n",
       "      <td>3.0</td>\n",
       "      <td>8.18552</td>\n",
       "      <td>155.0</td>\n",
       "      <td>14.322581</td>\n",
       "      <td>18.935877</td>\n",
       "      <td>1.935484</td>\n",
       "    </tr>\n",
       "    <tr>\n",
       "      <th>norway maple</th>\n",
       "      <td>1.0</td>\n",
       "      <td>8.18552</td>\n",
       "      <td>155.0</td>\n",
       "      <td>14.322581</td>\n",
       "      <td>18.935877</td>\n",
       "      <td>0.645161</td>\n",
       "    </tr>\n",
       "    <tr>\n",
       "      <th>oklahoma redbud</th>\n",
       "      <td>1.0</td>\n",
       "      <td>8.18552</td>\n",
       "      <td>155.0</td>\n",
       "      <td>14.322581</td>\n",
       "      <td>18.935877</td>\n",
       "      <td>0.645161</td>\n",
       "    </tr>\n",
       "  </tbody>\n",
       "</table>\n",
       "</div>"
      ],
      "text/plain": [
       "                                     count     area  total     health  \\\n",
       "ntaname borough spc_common                                              \n",
       "airport queens  american hornbeam      5.0  8.18552  155.0  14.322581   \n",
       "                amur maple             2.0  8.18552  155.0  14.322581   \n",
       "                black locust           8.0  8.18552  155.0  14.322581   \n",
       "                callery pear           9.0  8.18552  155.0  14.322581   \n",
       "                cherry                 3.0  8.18552  155.0  14.322581   \n",
       "                crab apple             1.0  8.18552  155.0  14.322581   \n",
       "                dawn redwood           1.0  8.18552  155.0  14.322581   \n",
       "                english oak            2.0  8.18552  155.0  14.322581   \n",
       "                ginkgo                 1.0  8.18552  155.0  14.322581   \n",
       "                golden raintree        3.0  8.18552  155.0  14.322581   \n",
       "                hawthorn               2.0  8.18552  155.0  14.322581   \n",
       "                honeylocust           50.0  8.18552  155.0  14.322581   \n",
       "                japanese tree lilac    1.0  8.18552  155.0  14.322581   \n",
       "                japanese zelkova       3.0  8.18552  155.0  14.322581   \n",
       "                littleleaf linden      2.0  8.18552  155.0  14.322581   \n",
       "                london planetree       2.0  8.18552  155.0  14.322581   \n",
       "                mulberry               2.0  8.18552  155.0  14.322581   \n",
       "                northern red oak       3.0  8.18552  155.0  14.322581   \n",
       "                norway maple           1.0  8.18552  155.0  14.322581   \n",
       "                oklahoma redbud        1.0  8.18552  155.0  14.322581   \n",
       "\n",
       "                                     trees/sq.mile  speices %  \n",
       "ntaname borough spc_common                                     \n",
       "airport queens  american hornbeam        18.935877   3.225806  \n",
       "                amur maple               18.935877   1.290323  \n",
       "                black locust             18.935877   5.161290  \n",
       "                callery pear             18.935877   5.806452  \n",
       "                cherry                   18.935877   1.935484  \n",
       "                crab apple               18.935877   0.645161  \n",
       "                dawn redwood             18.935877   0.645161  \n",
       "                english oak              18.935877   1.290323  \n",
       "                ginkgo                   18.935877   0.645161  \n",
       "                golden raintree          18.935877   1.935484  \n",
       "                hawthorn                 18.935877   1.290323  \n",
       "                honeylocust              18.935877  32.258065  \n",
       "                japanese tree lilac      18.935877   0.645161  \n",
       "                japanese zelkova         18.935877   1.935484  \n",
       "                littleleaf linden        18.935877   1.290323  \n",
       "                london planetree         18.935877   1.290323  \n",
       "                mulberry                 18.935877   1.290323  \n",
       "                northern red oak         18.935877   1.935484  \n",
       "                norway maple             18.935877   0.645161  \n",
       "                oklahoma redbud          18.935877   0.645161  "
      ]
     },
     "execution_count": 188,
     "metadata": {},
     "output_type": "execute_result"
    }
   ],
   "source": [
    "for_species = final_df.groupby(['ntaname', 'borough', 'spc_common']).mean()\n",
    "for_species.head(20)"
   ]
  },
  {
   "cell_type": "code",
   "execution_count": 186,
   "metadata": {},
   "outputs": [],
   "source": [
    "df2015_result.to_csv(r'D:\\CCNY Spring 2020\\Visualization\\useThisForANow.csv')"
   ]
  },
  {
   "cell_type": "code",
   "execution_count": 26,
   "metadata": {},
   "outputs": [],
   "source": [
    "#df2015.to_csv(r'D:\\CCNY Spring 2020\\Visualization\\CleanedTreeData2015.csv')"
   ]
  },
  {
   "cell_type": "code",
   "execution_count": 27,
   "metadata": {},
   "outputs": [],
   "source": [
    "#df2005.to_csv(r'D:\\CCNY Spring 2020\\Visualization\\CleanedTreeData2005.csv')"
   ]
  },
  {
   "cell_type": "code",
   "execution_count": 28,
   "metadata": {},
   "outputs": [],
   "source": [
    "#df1995.to_csv(r'D:\\CCNY Spring 2020\\Visualization\\CleanedTreeData1995.csv')"
   ]
  },
  {
   "cell_type": "code",
   "execution_count": 55,
   "metadata": {},
   "outputs": [
    {
     "data": {
      "text/plain": [
       "(1058992, 6)"
      ]
     },
     "execution_count": 55,
     "metadata": {},
     "output_type": "execute_result"
    }
   ],
   "source": [
    "properties_df_raw.shape"
   ]
  },
  {
   "cell_type": "code",
   "execution_count": 58,
   "metadata": {},
   "outputs": [],
   "source": [
    "properties_df_raw[:200000].to_csv(r'D:\\CCNY Spring 2020\\Visualization\\CleanedPropertiesData1.csv')\n",
    "properties_df_raw[200000:400000].to_csv(r'D:\\CCNY Spring 2020\\Visualization\\CleanedPropertiesData2.csv')\n",
    "properties_df_raw[400000:600000].to_csv(r'D:\\CCNY Spring 2020\\Visualization\\CleanedPropertiesData3.csv')"
   ]
  },
  {
   "cell_type": "code",
   "execution_count": 59,
   "metadata": {},
   "outputs": [],
   "source": [
    "properties_df_raw[600000:800000].to_csv(r'D:\\CCNY Spring 2020\\Visualization\\CleanedPropertiesData4.csv')"
   ]
  },
  {
   "cell_type": "code",
   "execution_count": 60,
   "metadata": {},
   "outputs": [],
   "source": [
    "properties_df_raw[800000:].to_csv(r'D:\\CCNY Spring 2020\\Visualization\\CleanedPropertiesData5.csv')"
   ]
  },
  {
   "cell_type": "code",
   "execution_count": 86,
   "metadata": {},
   "outputs": [],
   "source": [
    "properties_df1 = pd.read_csv('property\\cleanedpropertiesdata1.csv')"
   ]
  },
  {
   "cell_type": "code",
   "execution_count": 87,
   "metadata": {},
   "outputs": [],
   "source": [
    "properties_df2 = pd.read_csv('property\\cleanedpropertiesdata2.csv')\n",
    "properties_df3 = pd.read_csv('property\\cleanedpropertiesdata3.csv')\n",
    "properties_df4 = pd.read_csv('property\\cleanedpropertiesdata4.csv')\n",
    "properties_df5 = pd.read_csv('property\\cleanedpropertiesdata5.csv')"
   ]
  },
  {
   "cell_type": "code",
   "execution_count": 88,
   "metadata": {},
   "outputs": [
    {
     "name": "stdout",
     "output_type": "stream",
     "text": [
      "(199996, 10)\n",
      "(199997, 10)\n",
      "(199971, 10)\n",
      "(200000, 10)\n",
      "(258979, 10)\n"
     ]
    }
   ],
   "source": [
    "print(properties_df1.shape)\n",
    "print(properties_df2.shape)\n",
    "\n",
    "print(properties_df3.shape)\n",
    "\n",
    "print(properties_df4.shape)\n",
    "print(properties_df5.shape)\n"
   ]
  },
  {
   "cell_type": "code",
   "execution_count": 89,
   "metadata": {},
   "outputs": [],
   "source": [
    "properties_df = properties_df1.append(properties_df2, ignore_index=True).append(properties_df3, ignore_index=True).append(properties_df4, ignore_index=True).append(properties_df5, ignore_index=True)"
   ]
  },
  {
   "cell_type": "code",
   "execution_count": 90,
   "metadata": {},
   "outputs": [
    {
     "data": {
      "text/plain": [
       "(1058943, 10)"
      ]
     },
     "execution_count": 90,
     "metadata": {},
     "output_type": "execute_result"
    }
   ],
   "source": [
    "properties_df.shape"
   ]
  },
  {
   "cell_type": "code",
   "execution_count": 94,
   "metadata": {},
   "outputs": [],
   "source": [
    "properties_df = properties_df[['ntaname', 'borough', 'full_value', 'avg_land_value_acre', 'avtot']]"
   ]
  },
  {
   "cell_type": "code",
   "execution_count": 98,
   "metadata": {},
   "outputs": [],
   "source": [
    "properties_df.rename(columns={'full_value': 'property value', 'avg_land_value_acre': 'avg.land value/acre'}, inplace=True)\n",
    "properties_df = properties_df.applymap(lambda s:s.lower() if type(s) == str else s)"
   ]
  },
  {
   "cell_type": "code",
   "execution_count": 102,
   "metadata": {},
   "outputs": [
    {
     "data": {
      "text/html": [
       "<div>\n",
       "<style scoped>\n",
       "    .dataframe tbody tr th:only-of-type {\n",
       "        vertical-align: middle;\n",
       "    }\n",
       "\n",
       "    .dataframe tbody tr th {\n",
       "        vertical-align: top;\n",
       "    }\n",
       "\n",
       "    .dataframe thead th {\n",
       "        text-align: right;\n",
       "    }\n",
       "</style>\n",
       "<table border=\"1\" class=\"dataframe\">\n",
       "  <thead>\n",
       "    <tr style=\"text-align: right;\">\n",
       "      <th></th>\n",
       "      <th>ntaname</th>\n",
       "      <th>borough</th>\n",
       "      <th>property value</th>\n",
       "      <th>avg.land value/acre</th>\n",
       "      <th>avtot</th>\n",
       "      <th>count</th>\n",
       "    </tr>\n",
       "  </thead>\n",
       "  <tbody>\n",
       "    <tr>\n",
       "      <th>0</th>\n",
       "      <td>marble hill-inwood</td>\n",
       "      <td>manhattan</td>\n",
       "      <td>3172000</td>\n",
       "      <td>1260450</td>\n",
       "      <td>1427400</td>\n",
       "      <td>1</td>\n",
       "    </tr>\n",
       "    <tr>\n",
       "      <th>1</th>\n",
       "      <td>marble hill-inwood</td>\n",
       "      <td>manhattan</td>\n",
       "      <td>29628000</td>\n",
       "      <td>3514500</td>\n",
       "      <td>13332600</td>\n",
       "      <td>1</td>\n",
       "    </tr>\n",
       "    <tr>\n",
       "      <th>2</th>\n",
       "      <td>marble hill-inwood</td>\n",
       "      <td>manhattan</td>\n",
       "      <td>68771000</td>\n",
       "      <td>4995450</td>\n",
       "      <td>30946950</td>\n",
       "      <td>1</td>\n",
       "    </tr>\n",
       "    <tr>\n",
       "      <th>3</th>\n",
       "      <td>marble hill-inwood</td>\n",
       "      <td>manhattan</td>\n",
       "      <td>2680000</td>\n",
       "      <td>159300</td>\n",
       "      <td>1206000</td>\n",
       "      <td>1</td>\n",
       "    </tr>\n",
       "    <tr>\n",
       "      <th>4</th>\n",
       "      <td>marble hill-inwood</td>\n",
       "      <td>manhattan</td>\n",
       "      <td>3077000</td>\n",
       "      <td>239850</td>\n",
       "      <td>1384650</td>\n",
       "      <td>1</td>\n",
       "    </tr>\n",
       "  </tbody>\n",
       "</table>\n",
       "</div>"
      ],
      "text/plain": [
       "              ntaname    borough  property value  avg.land value/acre  \\\n",
       "0  marble hill-inwood  manhattan         3172000              1260450   \n",
       "1  marble hill-inwood  manhattan        29628000              3514500   \n",
       "2  marble hill-inwood  manhattan        68771000              4995450   \n",
       "3  marble hill-inwood  manhattan         2680000               159300   \n",
       "4  marble hill-inwood  manhattan         3077000               239850   \n",
       "\n",
       "      avtot  count  \n",
       "0   1427400      1  \n",
       "1  13332600      1  \n",
       "2  30946950      1  \n",
       "3   1206000      1  \n",
       "4   1384650      1  "
      ]
     },
     "execution_count": 102,
     "metadata": {},
     "output_type": "execute_result"
    }
   ],
   "source": [
    "properties_df['count']= 1\n",
    "properties_df.head()"
   ]
  },
  {
   "cell_type": "code",
   "execution_count": 103,
   "metadata": {},
   "outputs": [],
   "source": [
    "properties_df_grouped = properties_df.groupby(['ntaname','borough']).agg({'count': ['count'], 'avg.land value/acre':['mean'], 'property value':['mean'], 'avtot':['mean']})"
   ]
  },
  {
   "cell_type": "code",
   "execution_count": 189,
   "metadata": {},
   "outputs": [
    {
     "ename": "NameError",
     "evalue": "name 'properties_df_grouped' is not defined",
     "output_type": "error",
     "traceback": [
      "\u001b[1;31m---------------------------------------------------------------------------\u001b[0m",
      "\u001b[1;31mNameError\u001b[0m                                 Traceback (most recent call last)",
      "\u001b[1;32m<ipython-input-189-a7384cfb0003>\u001b[0m in \u001b[0;36m<module>\u001b[1;34m\u001b[0m\n\u001b[1;32m----> 1\u001b[1;33m \u001b[0mproperties_df_grouped\u001b[0m\u001b[1;33m.\u001b[0m\u001b[0mto_csv\u001b[0m\u001b[1;33m(\u001b[0m\u001b[1;34mr'D:\\CCNY Spring 2020\\Visualization\\project\\GroupedPropertiesData.csv'\u001b[0m\u001b[1;33m)\u001b[0m\u001b[1;33m\u001b[0m\u001b[1;33m\u001b[0m\u001b[0m\n\u001b[0m\u001b[0;32m      2\u001b[0m \u001b[0mfor_species\u001b[0m\u001b[1;33m.\u001b[0m\u001b[0mto_csv\u001b[0m\u001b[1;33m(\u001b[0m\u001b[1;34mr'D:\\CCNY Spring 2020\\Visualization\\project\\GroupedTreesDataSpecies.csv'\u001b[0m\u001b[1;33m)\u001b[0m\u001b[1;33m\u001b[0m\u001b[1;33m\u001b[0m\u001b[0m\n\u001b[0;32m      3\u001b[0m \u001b[0mdf2015_grouped_by_nta\u001b[0m\u001b[1;33m.\u001b[0m\u001b[0mto_csv\u001b[0m\u001b[1;33m(\u001b[0m\u001b[1;34mr'D:\\CCNY Spring 2020\\Visualization\\project\\GroupedTreesData.csv'\u001b[0m\u001b[1;33m)\u001b[0m\u001b[1;33m\u001b[0m\u001b[1;33m\u001b[0m\u001b[0m\n",
      "\u001b[1;31mNameError\u001b[0m: name 'properties_df_grouped' is not defined"
     ]
    }
   ],
   "source": [
    "properties_df_grouped.to_csv(r'D:\\CCNY Spring 2020\\Visualization\\project\\GroupedPropertiesData.csv')\n",
    "for_species.to_csv(r'D:\\CCNY Spring 2020\\Visualization\\project\\GroupedTreesDataSpecies.csv')\n",
    "df2015_grouped_by_nta.to_csv(r'D:\\CCNY Spring 2020\\Visualization\\project\\GroupedTreesData.csv')"
   ]
  },
  {
   "cell_type": "code",
   "execution_count": 198,
   "metadata": {},
   "outputs": [],
   "source": [
    "df2015_grouped_by_nta.to_csv('GroupedTreesData.csv')"
   ]
  },
  {
   "cell_type": "markdown",
   "metadata": {},
   "source": [
    "<h1>Merge properties and trees sets</h1>"
   ]
  },
  {
   "cell_type": "markdown",
   "metadata": {},
   "source": [
    "Read data"
   ]
  },
  {
   "cell_type": "code",
   "execution_count": 199,
   "metadata": {},
   "outputs": [],
   "source": [
    "properties_df = pd.read_csv('GroupedPropertiesData.csv')\n",
    "trees_df = pd.read_csv('GroupedTreesData.csv')\n",
    "species_df = pd.read_csv('GroupedTreesDataSpecies.csv')"
   ]
  },
  {
   "cell_type": "markdown",
   "metadata": {},
   "source": [
    "Inspect data"
   ]
  },
  {
   "cell_type": "code",
   "execution_count": 200,
   "metadata": {},
   "outputs": [
    {
     "name": "stdout",
     "output_type": "stream",
     "text": [
      "Index(['ntaname', 'borough', 'count', 'avg.land value/acre', 'property value',\n",
      "       'avtot'],\n",
      "      dtype='object')\n",
      "Index(['Unnamed: 0', 'ntaname', 'borough', 'count', 'shape_area', 'health',\n",
      "       'trees/sq.mile'],\n",
      "      dtype='object')\n"
     ]
    }
   ],
   "source": [
    "print(properties_df.columns)\n",
    "print(trees_df.columns)\n",
    "properties_df['avg.land value/acre'] = properties_df['avg.land value/acre']/1000\n",
    "properties_df['property value'] = properties_df['property value']/1000\n",
    "properties_df.rename(columns={'avg.land value/acre':'avg.landprice_thous$/acre', 'property value':'avg.propvalue_thous$/acre'}, inplace = True)"
   ]
  },
  {
   "cell_type": "markdown",
   "metadata": {},
   "source": [
    "Merge data"
   ]
  },
  {
   "cell_type": "code",
   "execution_count": 201,
   "metadata": {},
   "outputs": [
    {
     "data": {
      "text/plain": [
       "Index(['Unnamed: 0', 'ntaname', 'borough_x', 'count_x', 'shape_area', 'health',\n",
       "       'trees/sq.mile', 'borough_y', 'count_y', 'avg.landprice_thous$/acre',\n",
       "       'avg.propvalue_thous$/acre', 'avtot'],\n",
       "      dtype='object')"
      ]
     },
     "execution_count": 201,
     "metadata": {},
     "output_type": "execute_result"
    }
   ],
   "source": [
    "df = pd.merge(trees_df, properties_df, on='ntaname', how='outer')\n",
    "df.columns"
   ]
  },
  {
   "cell_type": "code",
   "execution_count": 202,
   "metadata": {},
   "outputs": [],
   "source": [
    "df.drop(columns=['Unnamed: 0'], inplace=True)"
   ]
  },
  {
   "cell_type": "code",
   "execution_count": 203,
   "metadata": {},
   "outputs": [],
   "source": [
    "df.rename(columns={'borough_x': 'borough', 'shape_area': 'area', 'count_x': '#trees', 'count_y':'#properties'}, inplace= True)\n",
    "df.dropna(inplace=True)"
   ]
  },
  {
   "cell_type": "code",
   "execution_count": 204,
   "metadata": {},
   "outputs": [
    {
     "data": {
      "text/html": [
       "<div>\n",
       "<style scoped>\n",
       "    .dataframe tbody tr th:only-of-type {\n",
       "        vertical-align: middle;\n",
       "    }\n",
       "\n",
       "    .dataframe tbody tr th {\n",
       "        vertical-align: top;\n",
       "    }\n",
       "\n",
       "    .dataframe thead th {\n",
       "        text-align: right;\n",
       "    }\n",
       "</style>\n",
       "<table border=\"1\" class=\"dataframe\">\n",
       "  <thead>\n",
       "    <tr style=\"text-align: right;\">\n",
       "      <th></th>\n",
       "      <th>ntaname</th>\n",
       "      <th>borough</th>\n",
       "      <th>#trees</th>\n",
       "      <th>area</th>\n",
       "      <th>health</th>\n",
       "      <th>trees/sq.mile</th>\n",
       "      <th>borough_y</th>\n",
       "      <th>#properties</th>\n",
       "      <th>avg.landprice_thous$/acre</th>\n",
       "      <th>avg.propvalue_thous$/acre</th>\n",
       "      <th>avtot</th>\n",
       "    </tr>\n",
       "  </thead>\n",
       "  <tbody>\n",
       "    <tr>\n",
       "      <th>0</th>\n",
       "      <td>airport</td>\n",
       "      <td>queens</td>\n",
       "      <td>155.0</td>\n",
       "      <td>8.185520</td>\n",
       "      <td>14.322581</td>\n",
       "      <td>18.935877</td>\n",
       "      <td>queens</td>\n",
       "      <td>2</td>\n",
       "      <td>1995.03350</td>\n",
       "      <td>4694.50000</td>\n",
       "      <td>2000580.00</td>\n",
       "    </tr>\n",
       "    <tr>\n",
       "      <th>1</th>\n",
       "      <td>allerton-pelham gardens</td>\n",
       "      <td>bronx</td>\n",
       "      <td>3609.0</td>\n",
       "      <td>1.136832</td>\n",
       "      <td>13.941535</td>\n",
       "      <td>3174.612844</td>\n",
       "      <td>bronx</td>\n",
       "      <td>5359</td>\n",
       "      <td>18.23883</td>\n",
       "      <td>512.23843</td>\n",
       "      <td>59657.46</td>\n",
       "    </tr>\n",
       "    <tr>\n",
       "      <th>2</th>\n",
       "      <td>annadale-huguenot-prince's bay-eltingville</td>\n",
       "      <td>staten island</td>\n",
       "      <td>12538.0</td>\n",
       "      <td>5.059752</td>\n",
       "      <td>13.418408</td>\n",
       "      <td>2477.987095</td>\n",
       "      <td>staten island</td>\n",
       "      <td>8389</td>\n",
       "      <td>19.10656</td>\n",
       "      <td>619.13935</td>\n",
       "      <td>55649.67</td>\n",
       "    </tr>\n",
       "    <tr>\n",
       "      <th>3</th>\n",
       "      <td>arden heights</td>\n",
       "      <td>staten island</td>\n",
       "      <td>6729.0</td>\n",
       "      <td>1.808239</td>\n",
       "      <td>13.910685</td>\n",
       "      <td>3721.299694</td>\n",
       "      <td>staten island</td>\n",
       "      <td>7702</td>\n",
       "      <td>9.65568</td>\n",
       "      <td>448.18923</td>\n",
       "      <td>33080.58</td>\n",
       "    </tr>\n",
       "    <tr>\n",
       "      <th>4</th>\n",
       "      <td>astoria</td>\n",
       "      <td>queens</td>\n",
       "      <td>4183.0</td>\n",
       "      <td>1.410967</td>\n",
       "      <td>14.040163</td>\n",
       "      <td>2964.632633</td>\n",
       "      <td>queens</td>\n",
       "      <td>8147</td>\n",
       "      <td>42.31469</td>\n",
       "      <td>895.98350</td>\n",
       "      <td>178549.60</td>\n",
       "    </tr>\n",
       "  </tbody>\n",
       "</table>\n",
       "</div>"
      ],
      "text/plain": [
       "                                      ntaname        borough   #trees  \\\n",
       "0                                     airport         queens    155.0   \n",
       "1                     allerton-pelham gardens          bronx   3609.0   \n",
       "2  annadale-huguenot-prince's bay-eltingville  staten island  12538.0   \n",
       "3                               arden heights  staten island   6729.0   \n",
       "4                                     astoria         queens   4183.0   \n",
       "\n",
       "       area     health  trees/sq.mile      borough_y  #properties  \\\n",
       "0  8.185520  14.322581      18.935877         queens            2   \n",
       "1  1.136832  13.941535    3174.612844          bronx         5359   \n",
       "2  5.059752  13.418408    2477.987095  staten island         8389   \n",
       "3  1.808239  13.910685    3721.299694  staten island         7702   \n",
       "4  1.410967  14.040163    2964.632633         queens         8147   \n",
       "\n",
       "   avg.landprice_thous$/acre  avg.propvalue_thous$/acre       avtot  \n",
       "0                 1995.03350                 4694.50000  2000580.00  \n",
       "1                   18.23883                  512.23843    59657.46  \n",
       "2                   19.10656                  619.13935    55649.67  \n",
       "3                    9.65568                  448.18923    33080.58  \n",
       "4                   42.31469                  895.98350   178549.60  "
      ]
     },
     "execution_count": 204,
     "metadata": {},
     "output_type": "execute_result"
    }
   ],
   "source": [
    "df.head()"
   ]
  },
  {
   "cell_type": "markdown",
   "metadata": {},
   "source": [
    "<h1>Is there correlation?</h1>"
   ]
  },
  {
   "cell_type": "code",
   "execution_count": 205,
   "metadata": {},
   "outputs": [
    {
     "name": "stderr",
     "output_type": "stream",
     "text": [
      "C:\\Users\\mskac\\Anaconda3\\lib\\site-packages\\ipykernel_launcher.py:2: SettingWithCopyWarning: \n",
      "A value is trying to be set on a copy of a slice from a DataFrame.\n",
      "Try using .loc[row_indexer,col_indexer] = value instead\n",
      "\n",
      "See the caveats in the documentation: https://pandas.pydata.org/pandas-docs/stable/user_guide/indexing.html#returning-a-view-versus-a-copy\n",
      "  \n"
     ]
    }
   ],
   "source": [
    "df_without_outliers = df[(df['avg.landprice_thous$/acre']<1000) & (df['avg.landprice_thous$/acre']>0) ]\n",
    "df_without_outliers['properties/sq.mile'] = df_without_outliers['#properties']/df_without_outliers['area']\n",
    "df_without_outliers.drop(columns=['avtot','#properties', '#trees'], inplace = True)\n"
   ]
  },
  {
   "cell_type": "code",
   "execution_count": 206,
   "metadata": {},
   "outputs": [
    {
     "data": {
      "text/plain": [
       "<matplotlib.axes._subplots.AxesSubplot at 0x13f29127208>"
      ]
     },
     "execution_count": 206,
     "metadata": {},
     "output_type": "execute_result"
    },
    {
     "data": {
      "image/png": "[encoded data removed]",
      "text/plain": [
       "<Figure size 432x288 with 1 Axes>"
      ]
     },
     "metadata": {
      "needs_background": "light"
     },
     "output_type": "display_data"
    }
   ],
   "source": [
    "sns.distplot(df_without_outliers['avg.landprice_thous$/acre'], kde=False)"
   ]
  },
  {
   "cell_type": "code",
   "execution_count": 207,
   "metadata": {},
   "outputs": [
    {
     "data": {
      "text/plain": [
       "<matplotlib.axes._subplots.AxesSubplot at 0x13f29132908>"
      ]
     },
     "execution_count": 207,
     "metadata": {},
     "output_type": "execute_result"
    },
    {
     "data": {
      "image/png": "[encoded data removed]",
      "text/plain": [
       "<Figure size 432x288 with 1 Axes>"
      ]
     },
     "metadata": {
      "needs_background": "light"
     },
     "output_type": "display_data"
    }
   ],
   "source": [
    "sns.distplot(df_without_outliers['trees/sq.mile'], kde=False)"
   ]
  },
  {
   "cell_type": "code",
   "execution_count": 208,
   "metadata": {},
   "outputs": [
    {
     "data": {
      "text/plain": [
       "<seaborn.axisgrid.FacetGrid at 0x13f22e9fc88>"
      ]
     },
     "execution_count": 208,
     "metadata": {},
     "output_type": "execute_result"
    },
    {
     "data": {
      "image/png": "[encoded data removed]",
      "text/plain": [
       "<Figure size 432x432 with 3 Axes>"
      ]
     },
     "metadata": {
      "needs_background": "light"
     },
     "output_type": "display_data"
    },
    {
     "data": {
      "image/png": "[encoded data removed]",
      "text/plain": [
       "<Figure size 360x360 with 1 Axes>"
      ]
     },
     "metadata": {
      "needs_background": "light"
     },
     "output_type": "display_data"
    }
   ],
   "source": [
    "sns.jointplot(x='trees/sq.mile', y = 'avg.landprice_thous$/acre', data=df_without_outliers)\n",
    "sns.lmplot(x='trees/sq.mile', y='avg.landprice_thous$/acre', data=df_without_outliers)"
   ]
  },
  {
   "cell_type": "code",
   "execution_count": 209,
   "metadata": {},
   "outputs": [
    {
     "data": {
      "text/plain": [
       "<seaborn.axisgrid.PairGrid at 0x13f1b64e588>"
      ]
     },
     "execution_count": 209,
     "metadata": {},
     "output_type": "execute_result"
    },
    {
     "data": {
      "image/png": "[encoded data removed]",
      "text/plain": [
       "<Figure size 1180.62x1080 with 42 Axes>"
      ]
     },
     "metadata": {
      "needs_background": "light"
     },
     "output_type": "display_data"
    }
   ],
   "source": [
    "sns.pairplot(df_without_outliers, hue = 'borough')"
   ]
  },
  {
   "cell_type": "markdown",
   "metadata": {},
   "source": [
    "We can notice that there is a slight correlation between number of trees per sq.mile and number of properties per sq.mile"
   ]
  },
  {
   "cell_type": "code",
   "execution_count": 210,
   "metadata": {},
   "outputs": [
    {
     "data": {
      "text/plain": [
       "<seaborn.axisgrid.FacetGrid at 0x13f21e155c8>"
      ]
     },
     "execution_count": 210,
     "metadata": {},
     "output_type": "execute_result"
    },
    {
     "data": {
      "image/png": "[encoded data removed]",
      "text/plain": [
       "<Figure size 432x432 with 3 Axes>"
      ]
     },
     "metadata": {
      "needs_background": "light"
     },
     "output_type": "display_data"
    },
    {
     "data": {
      "image/png": "[encoded data removed]",
      "text/plain": [
       "<Figure size 360x360 with 1 Axes>"
      ]
     },
     "metadata": {
      "needs_background": "light"
     },
     "output_type": "display_data"
    }
   ],
   "source": [
    "sns.jointplot(x='trees/sq.mile', y = 'properties/sq.mile', data=df_without_outliers)\n",
    "sns.lmplot(x='trees/sq.mile', y='properties/sq.mile', data=df_without_outliers)"
   ]
  },
  {
   "cell_type": "code",
   "execution_count": 211,
   "metadata": {},
   "outputs": [
    {
     "data": {
      "text/html": [
       "<div>\n",
       "<style scoped>\n",
       "    .dataframe tbody tr th:only-of-type {\n",
       "        vertical-align: middle;\n",
       "    }\n",
       "\n",
       "    .dataframe tbody tr th {\n",
       "        vertical-align: top;\n",
       "    }\n",
       "\n",
       "    .dataframe thead th {\n",
       "        text-align: right;\n",
       "    }\n",
       "</style>\n",
       "<table border=\"1\" class=\"dataframe\">\n",
       "  <thead>\n",
       "    <tr style=\"text-align: right;\">\n",
       "      <th></th>\n",
       "      <th>area</th>\n",
       "      <th>health</th>\n",
       "      <th>trees/sq.mile</th>\n",
       "      <th>avg.landprice_thous$/acre</th>\n",
       "      <th>avg.propvalue_thous$/acre</th>\n",
       "      <th>properties/sq.mile</th>\n",
       "    </tr>\n",
       "  </thead>\n",
       "  <tbody>\n",
       "    <tr>\n",
       "      <th>area</th>\n",
       "      <td>1.000000</td>\n",
       "      <td>-0.049499</td>\n",
       "      <td>-0.402054</td>\n",
       "      <td>-0.230326</td>\n",
       "      <td>-0.262969</td>\n",
       "      <td>-0.260866</td>\n",
       "    </tr>\n",
       "    <tr>\n",
       "      <th>health</th>\n",
       "      <td>-0.049499</td>\n",
       "      <td>1.000000</td>\n",
       "      <td>0.134191</td>\n",
       "      <td>-0.243982</td>\n",
       "      <td>-0.215133</td>\n",
       "      <td>0.024510</td>\n",
       "    </tr>\n",
       "    <tr>\n",
       "      <th>trees/sq.mile</th>\n",
       "      <td>-0.402054</td>\n",
       "      <td>0.134191</td>\n",
       "      <td>1.000000</td>\n",
       "      <td>0.136586</td>\n",
       "      <td>0.177458</td>\n",
       "      <td>0.309669</td>\n",
       "    </tr>\n",
       "    <tr>\n",
       "      <th>avg.landprice_thous$/acre</th>\n",
       "      <td>-0.230326</td>\n",
       "      <td>-0.243982</td>\n",
       "      <td>0.136586</td>\n",
       "      <td>1.000000</td>\n",
       "      <td>0.925574</td>\n",
       "      <td>0.232982</td>\n",
       "    </tr>\n",
       "    <tr>\n",
       "      <th>avg.propvalue_thous$/acre</th>\n",
       "      <td>-0.262969</td>\n",
       "      <td>-0.215133</td>\n",
       "      <td>0.177458</td>\n",
       "      <td>0.925574</td>\n",
       "      <td>1.000000</td>\n",
       "      <td>0.100373</td>\n",
       "    </tr>\n",
       "    <tr>\n",
       "      <th>properties/sq.mile</th>\n",
       "      <td>-0.260866</td>\n",
       "      <td>0.024510</td>\n",
       "      <td>0.309669</td>\n",
       "      <td>0.232982</td>\n",
       "      <td>0.100373</td>\n",
       "      <td>1.000000</td>\n",
       "    </tr>\n",
       "  </tbody>\n",
       "</table>\n",
       "</div>"
      ],
      "text/plain": [
       "                               area    health  trees/sq.mile  \\\n",
       "area                       1.000000 -0.049499      -0.402054   \n",
       "health                    -0.049499  1.000000       0.134191   \n",
       "trees/sq.mile             -0.402054  0.134191       1.000000   \n",
       "avg.landprice_thous$/acre -0.230326 -0.243982       0.136586   \n",
       "avg.propvalue_thous$/acre -0.262969 -0.215133       0.177458   \n",
       "properties/sq.mile        -0.260866  0.024510       0.309669   \n",
       "\n",
       "                           avg.landprice_thous$/acre  \\\n",
       "area                                       -0.230326   \n",
       "health                                     -0.243982   \n",
       "trees/sq.mile                               0.136586   \n",
       "avg.landprice_thous$/acre                   1.000000   \n",
       "avg.propvalue_thous$/acre                   0.925574   \n",
       "properties/sq.mile                          0.232982   \n",
       "\n",
       "                           avg.propvalue_thous$/acre  properties/sq.mile  \n",
       "area                                       -0.262969           -0.260866  \n",
       "health                                     -0.215133            0.024510  \n",
       "trees/sq.mile                               0.177458            0.309669  \n",
       "avg.landprice_thous$/acre                   0.925574            0.232982  \n",
       "avg.propvalue_thous$/acre                   1.000000            0.100373  \n",
       "properties/sq.mile                          0.100373            1.000000  "
      ]
     },
     "execution_count": 211,
     "metadata": {},
     "output_type": "execute_result"
    }
   ],
   "source": [
    "df_without_outliers.corr(method ='pearson') \n"
   ]
  },
  {
   "cell_type": "code",
   "execution_count": null,
   "metadata": {},
   "outputs": [],
   "source": []
  }
 ],
 "metadata": {
  "kernelspec": {
   "display_name": "Python 3",
   "language": "python",
   "name": "python3"
  },
  "language_info": {
   "codemirror_mode": {
    "name": "ipython",
    "version": 3
   },
   "file_extension": ".py",
   "mimetype": "text/x-python",
   "name": "python",
   "nbconvert_exporter": "python",
   "pygments_lexer": "ipython3",
   "version": "3.7.6"
  }
 },
 "nbformat": 4,
 "nbformat_minor": 4
}
