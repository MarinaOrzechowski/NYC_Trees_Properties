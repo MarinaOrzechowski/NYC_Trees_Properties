{
 "cells": [
  {
   "cell_type": "markdown",
   "metadata": {},
   "source": [
    "<h2>Find coordinates of neighborhoods', boroughs' centers and add 'hover' data</h2>"
   ]
  },
  {
   "cell_type": "code",
   "execution_count": 37,
   "metadata": {},
   "outputs": [],
   "source": [
    "from geojson_utils import point_in_multipolygon\n",
    "from geojson_utils import centroid\n",
    "import pandas as pd\n",
    "import json"
   ]
  },
  {
   "cell_type": "code",
   "execution_count": 38,
   "metadata": {},
   "outputs": [],
   "source": [
    "dataN= pd.read_json('data/NeighborhoodTabulationAreas.geojson')\n",
    "dataB = pd.read_json('data/BoroughBoundaries.geojson')"
   ]
  },
  {
   "cell_type": "code",
   "execution_count": 39,
   "metadata": {},
   "outputs": [],
   "source": [
    "centersN = pd.DataFrame(columns=['ntaname', 'centerLong', 'centerLat'])\n",
    "centersB = pd.DataFrame(columns=['boroname', 'centerLong', 'centerLat'])\n",
    "for element in dataN['features']:\n",
    "    box_str = str(element['geometry']['coordinates'][0])\n",
    "    box_str = '{\"type\": \"Polygon\",\"coordinates\": '+box_str+'}'\n",
    "    box = json.loads(box_str)\n",
    "    point = centroid(box)\n",
    "    centersN = centersN.append({'ntaname': element['properties']['ntaname'].lower(), 'centerLong': point['coordinates'][0], 'centerLat': point['coordinates'][1]}, ignore_index=True)\n",
    "    \n",
    "for element in dataB['features']:\n",
    "    box_str = str(element['geometry']['coordinates'][0])\n",
    "    box_str = '{\"type\": \"Polygon\",\"coordinates\": '+box_str+'}'\n",
    "    box = json.loads(box_str)\n",
    "    point = centroid(box)\n",
    "    centersB = centersB.append({'boroname': element['properties']['boro_name'].lower(), 'centerLong': point['coordinates'][0], 'centerLat': point['coordinates'][1]}, ignore_index=True)    "
   ]
  },
  {
   "cell_type": "code",
   "execution_count": 40,
   "metadata": {},
   "outputs": [
    {
     "data": {
      "text/html": [
       "<div>\n",
       "<style scoped>\n",
       "    .dataframe tbody tr th:only-of-type {\n",
       "        vertical-align: middle;\n",
       "    }\n",
       "\n",
       "    .dataframe tbody tr th {\n",
       "        vertical-align: top;\n",
       "    }\n",
       "\n",
       "    .dataframe thead th {\n",
       "        text-align: right;\n",
       "    }\n",
       "</style>\n",
       "<table border=\"1\" class=\"dataframe\">\n",
       "  <thead>\n",
       "    <tr style=\"text-align: right;\">\n",
       "      <th></th>\n",
       "      <th>ntaname</th>\n",
       "      <th>centerLong</th>\n",
       "      <th>centerLat</th>\n",
       "    </tr>\n",
       "  </thead>\n",
       "  <tbody>\n",
       "    <tr>\n",
       "      <th>0</th>\n",
       "      <td>borough park</td>\n",
       "      <td>-73.988661</td>\n",
       "      <td>40.630950</td>\n",
       "    </tr>\n",
       "    <tr>\n",
       "      <th>1</th>\n",
       "      <td>murray hill</td>\n",
       "      <td>-73.809546</td>\n",
       "      <td>40.768352</td>\n",
       "    </tr>\n",
       "    <tr>\n",
       "      <th>2</th>\n",
       "      <td>east elmhurst</td>\n",
       "      <td>-73.868396</td>\n",
       "      <td>40.763352</td>\n",
       "    </tr>\n",
       "    <tr>\n",
       "      <th>3</th>\n",
       "      <td>hollis</td>\n",
       "      <td>-73.761137</td>\n",
       "      <td>40.710639</td>\n",
       "    </tr>\n",
       "    <tr>\n",
       "      <th>4</th>\n",
       "      <td>manhattanville</td>\n",
       "      <td>-73.953782</td>\n",
       "      <td>40.817976</td>\n",
       "    </tr>\n",
       "    <tr>\n",
       "      <th>...</th>\n",
       "      <td>...</td>\n",
       "      <td>...</td>\n",
       "      <td>...</td>\n",
       "    </tr>\n",
       "    <tr>\n",
       "      <th>190</th>\n",
       "      <td>ozone park</td>\n",
       "      <td>-73.847049</td>\n",
       "      <td>40.675599</td>\n",
       "    </tr>\n",
       "    <tr>\n",
       "      <th>191</th>\n",
       "      <td>lindenwood-howard beach</td>\n",
       "      <td>-73.858961</td>\n",
       "      <td>40.652852</td>\n",
       "    </tr>\n",
       "    <tr>\n",
       "      <th>192</th>\n",
       "      <td>university heights-morris heights</td>\n",
       "      <td>-73.915974</td>\n",
       "      <td>40.852522</td>\n",
       "    </tr>\n",
       "    <tr>\n",
       "      <th>193</th>\n",
       "      <td>new brighton-silver lake</td>\n",
       "      <td>-74.102861</td>\n",
       "      <td>40.630050</td>\n",
       "    </tr>\n",
       "    <tr>\n",
       "      <th>194</th>\n",
       "      <td>west new brighton-new brighton-st. george</td>\n",
       "      <td>-74.102311</td>\n",
       "      <td>40.638971</td>\n",
       "    </tr>\n",
       "  </tbody>\n",
       "</table>\n",
       "<p>195 rows × 3 columns</p>\n",
       "</div>"
      ],
      "text/plain": [
       "                                       ntaname  centerLong  centerLat\n",
       "0                                 borough park  -73.988661  40.630950\n",
       "1                                  murray hill  -73.809546  40.768352\n",
       "2                                east elmhurst  -73.868396  40.763352\n",
       "3                                       hollis  -73.761137  40.710639\n",
       "4                               manhattanville  -73.953782  40.817976\n",
       "..                                         ...         ...        ...\n",
       "190                                 ozone park  -73.847049  40.675599\n",
       "191                    lindenwood-howard beach  -73.858961  40.652852\n",
       "192          university heights-morris heights  -73.915974  40.852522\n",
       "193                   new brighton-silver lake  -74.102861  40.630050\n",
       "194  west new brighton-new brighton-st. george  -74.102311  40.638971\n",
       "\n",
       "[195 rows x 3 columns]"
      ]
     },
     "execution_count": 40,
     "metadata": {},
     "output_type": "execute_result"
    }
   ],
   "source": [
    "centersN"
   ]
  },
  {
   "cell_type": "code",
   "execution_count": 41,
   "metadata": {},
   "outputs": [
    {
     "data": {
      "text/html": [
       "<div>\n",
       "<style scoped>\n",
       "    .dataframe tbody tr th:only-of-type {\n",
       "        vertical-align: middle;\n",
       "    }\n",
       "\n",
       "    .dataframe tbody tr th {\n",
       "        vertical-align: top;\n",
       "    }\n",
       "\n",
       "    .dataframe thead th {\n",
       "        text-align: right;\n",
       "    }\n",
       "</style>\n",
       "<table border=\"1\" class=\"dataframe\">\n",
       "  <thead>\n",
       "    <tr style=\"text-align: right;\">\n",
       "      <th></th>\n",
       "      <th>boroname</th>\n",
       "      <th>centerLong</th>\n",
       "      <th>centerLat</th>\n",
       "    </tr>\n",
       "  </thead>\n",
       "  <tbody>\n",
       "    <tr>\n",
       "      <th>0</th>\n",
       "      <td>bronx</td>\n",
       "      <td>-73.897843</td>\n",
       "      <td>40.796350</td>\n",
       "    </tr>\n",
       "    <tr>\n",
       "      <th>1</th>\n",
       "      <td>staten island</td>\n",
       "      <td>-74.050069</td>\n",
       "      <td>40.565911</td>\n",
       "    </tr>\n",
       "    <tr>\n",
       "      <th>2</th>\n",
       "      <td>brooklyn</td>\n",
       "      <td>-73.866373</td>\n",
       "      <td>40.586820</td>\n",
       "    </tr>\n",
       "    <tr>\n",
       "      <th>3</th>\n",
       "      <td>queens</td>\n",
       "      <td>-73.837516</td>\n",
       "      <td>40.592832</td>\n",
       "    </tr>\n",
       "    <tr>\n",
       "      <th>4</th>\n",
       "      <td>manhattan</td>\n",
       "      <td>-74.010173</td>\n",
       "      <td>40.685134</td>\n",
       "    </tr>\n",
       "  </tbody>\n",
       "</table>\n",
       "</div>"
      ],
      "text/plain": [
       "        boroname  centerLong  centerLat\n",
       "0          bronx  -73.897843  40.796350\n",
       "1  staten island  -74.050069  40.565911\n",
       "2       brooklyn  -73.866373  40.586820\n",
       "3         queens  -73.837516  40.592832\n",
       "4      manhattan  -74.010173  40.685134"
      ]
     },
     "execution_count": 41,
     "metadata": {},
     "output_type": "execute_result"
    }
   ],
   "source": [
    "centersB"
   ]
  },
  {
   "cell_type": "code",
   "execution_count": 42,
   "metadata": {},
   "outputs": [
    {
     "data": {
      "text/html": [
       "<div>\n",
       "<style scoped>\n",
       "    .dataframe tbody tr th:only-of-type {\n",
       "        vertical-align: middle;\n",
       "    }\n",
       "\n",
       "    .dataframe tbody tr th {\n",
       "        vertical-align: top;\n",
       "    }\n",
       "\n",
       "    .dataframe thead th {\n",
       "        text-align: right;\n",
       "    }\n",
       "</style>\n",
       "<table border=\"1\" class=\"dataframe\">\n",
       "  <thead>\n",
       "    <tr style=\"text-align: right;\">\n",
       "      <th></th>\n",
       "      <th>borough</th>\n",
       "      <th>health</th>\n",
       "      <th>trees/sq.mile</th>\n",
       "      <th>avg.landprice_thous$/acre</th>\n",
       "      <th>properties/sq.mile</th>\n",
       "    </tr>\n",
       "  </thead>\n",
       "  <tbody>\n",
       "    <tr>\n",
       "      <th>0</th>\n",
       "      <td>bronx</td>\n",
       "      <td>13.897568</td>\n",
       "      <td>2575.768919</td>\n",
       "      <td>56.952162</td>\n",
       "      <td>3636.815946</td>\n",
       "    </tr>\n",
       "    <tr>\n",
       "      <th>1</th>\n",
       "      <td>brooklyn</td>\n",
       "      <td>13.806863</td>\n",
       "      <td>2840.467843</td>\n",
       "      <td>37.254118</td>\n",
       "      <td>5551.347255</td>\n",
       "    </tr>\n",
       "    <tr>\n",
       "      <th>2</th>\n",
       "      <td>manhattan</td>\n",
       "      <td>13.460000</td>\n",
       "      <td>3307.277692</td>\n",
       "      <td>219.828846</td>\n",
       "      <td>8028.133846</td>\n",
       "    </tr>\n",
       "    <tr>\n",
       "      <th>3</th>\n",
       "      <td>queens</td>\n",
       "      <td>13.878929</td>\n",
       "      <td>2678.568036</td>\n",
       "      <td>35.663571</td>\n",
       "      <td>4278.410714</td>\n",
       "    </tr>\n",
       "    <tr>\n",
       "      <th>4</th>\n",
       "      <td>staten island</td>\n",
       "      <td>13.924444</td>\n",
       "      <td>2130.842778</td>\n",
       "      <td>24.254444</td>\n",
       "      <td>2752.206111</td>\n",
       "    </tr>\n",
       "  </tbody>\n",
       "</table>\n",
       "</div>"
      ],
      "text/plain": [
       "         borough     health  trees/sq.mile  avg.landprice_thous$/acre  \\\n",
       "0          bronx  13.897568    2575.768919                  56.952162   \n",
       "1       brooklyn  13.806863    2840.467843                  37.254118   \n",
       "2      manhattan  13.460000    3307.277692                 219.828846   \n",
       "3         queens  13.878929    2678.568036                  35.663571   \n",
       "4  staten island  13.924444    2130.842778                  24.254444   \n",
       "\n",
       "   properties/sq.mile  \n",
       "0         3636.815946  \n",
       "1         5551.347255  \n",
       "2         8028.133846  \n",
       "3         4278.410714  \n",
       "4         2752.206111  "
      ]
     },
     "execution_count": 42,
     "metadata": {},
     "output_type": "execute_result"
    }
   ],
   "source": [
    "dfN = pd.read_csv('data/MergedTreesPropertiesData.csv')\n",
    "dfB = pd.read_csv('data/MergedTreesPropertiesDataBoro.csv')\n",
    "centersB.rename(columns={'boroname': 'borough'}, inplace=True)\n",
    "dfB.head()"
   ]
  },
  {
   "cell_type": "code",
   "execution_count": 43,
   "metadata": {},
   "outputs": [],
   "source": [
    "dfN = pd.merge(dfN, centersN, how='outer', on='ntaname')\n",
    "dfB = pd.merge(dfB, centersB, how='outer', on='borough')"
   ]
  },
  {
   "cell_type": "code",
   "execution_count": 45,
   "metadata": {},
   "outputs": [],
   "source": [
    "dfN.dropna(inplace=True)\n",
    "dfB.dropna(inplace=True)\n"
   ]
  },
  {
   "cell_type": "code",
   "execution_count": 46,
   "metadata": {},
   "outputs": [],
   "source": [
    "dfN['hover']=''\n",
    "dfB['hover']=''"
   ]
  },
  {
   "cell_type": "code",
   "execution_count": 47,
   "metadata": {},
   "outputs": [],
   "source": [
    "for index, row in dfN.iterrows():\n",
    "    new_hover=row['ntaname']+'<br>'+row['borough']+'<br>'+'trees/sq.mile: '+str(row['trees/sq.mile'])+'<br>'+'avg. landprice: '+ str(row['avg.landprice_thous$/acre']) + '<br>'+'trees health: '+str(row['health'])+'/15'\n",
    "    dfN.at[index,'hover'] = new_hover\n",
    "\n",
    "for index, row in dfB.iterrows():\n",
    "    new_hover=row['borough']+'<br>'+'trees/sq.mile: '+str(row['trees/sq.mile'])+'<br>'+'avg. landprice: '+ str(row['avg.landprice_thous$/acre']) + '<br>'+'trees health: '+str(row['health'])+'/15'\n",
    "    dfB.at[index,'hover'] = new_hover"
   ]
  },
  {
   "cell_type": "code",
   "execution_count": 48,
   "metadata": {},
   "outputs": [],
   "source": [
    "dfN.drop(columns={'borough_y', 'avtot'}, inplace = True)"
   ]
  },
  {
   "cell_type": "code",
   "execution_count": 49,
   "metadata": {},
   "outputs": [
    {
     "data": {
      "text/plain": [
       "'airport<br>queens<br>trees/sq.mile: 18.94<br>avg. landprice: 1995.03<br>trees health: 14.32/15'"
      ]
     },
     "execution_count": 49,
     "metadata": {},
     "output_type": "execute_result"
    }
   ],
   "source": [
    "dfN.hover[0]"
   ]
  },
  {
   "cell_type": "code",
   "execution_count": 50,
   "metadata": {},
   "outputs": [],
   "source": [
    "dfN.to_csv('data\\Trees_Properties_With_Centroids.csv')"
   ]
  },
  {
   "cell_type": "code",
   "execution_count": 51,
   "metadata": {},
   "outputs": [],
   "source": [
    "dfB.to_csv('data\\Trees_Properties_With_Centroids_Boro.csv')"
   ]
  },
  {
   "cell_type": "code",
   "execution_count": null,
   "metadata": {},
   "outputs": [],
   "source": []
  }
 ],
 "metadata": {
  "kernelspec": {
   "display_name": "Python 3",
   "language": "python",
   "name": "python3"
  },
  "language_info": {
   "codemirror_mode": {
    "name": "ipython",
    "version": 3
   },
   "file_extension": ".py",
   "mimetype": "text/x-python",
   "name": "python",
   "nbconvert_exporter": "python",
   "pygments_lexer": "ipython3",
   "version": "3.7.6"
  }
 },
 "nbformat": 4,
 "nbformat_minor": 4
}
