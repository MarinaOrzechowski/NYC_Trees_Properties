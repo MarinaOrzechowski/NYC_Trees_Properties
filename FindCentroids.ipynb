{
 "cells": [
  {
   "cell_type": "markdown",
   "metadata": {},
   "source": [
    "<h2>Find coordinates of neighborhoods' centers and add 'hover' data</h2>"
   ]
  },
  {
   "cell_type": "code",
   "execution_count": 1,
   "metadata": {},
   "outputs": [],
   "source": [
    "from geojson_utils import point_in_multipolygon\n",
    "from geojson_utils import centroid\n",
    "import pandas as pd\n",
    "import json"
   ]
  },
  {
   "cell_type": "code",
   "execution_count": 2,
   "metadata": {},
   "outputs": [],
   "source": [
    "data= pd.read_json('data/NeighborhoodTabulationAreas.geojson')"
   ]
  },
  {
   "cell_type": "code",
   "execution_count": 11,
   "metadata": {},
   "outputs": [],
   "source": [
    "centers = pd.DataFrame(columns=['ntaname', 'centerLong', 'centerLat'])\n",
    "for element in data['features']:\n",
    "    box_str = str(element['geometry']['coordinates'][0])\n",
    "    box_str = '{\"type\": \"Polygon\",\"coordinates\": '+box_str+'}'\n",
    "    box = json.loads(box_str)\n",
    "    point = centroid(box)\n",
    "    centers = centers.append({'ntaname': element['properties']['ntaname'].lower(), 'centerLong': point['coordinates'][0], 'centerLat': point['coordinates'][1]}, ignore_index=True)"
   ]
  },
  {
   "cell_type": "code",
   "execution_count": 12,
   "metadata": {},
   "outputs": [
    {
     "data": {
      "text/html": [
       "<div>\n",
       "<style scoped>\n",
       "    .dataframe tbody tr th:only-of-type {\n",
       "        vertical-align: middle;\n",
       "    }\n",
       "\n",
       "    .dataframe tbody tr th {\n",
       "        vertical-align: top;\n",
       "    }\n",
       "\n",
       "    .dataframe thead th {\n",
       "        text-align: right;\n",
       "    }\n",
       "</style>\n",
       "<table border=\"1\" class=\"dataframe\">\n",
       "  <thead>\n",
       "    <tr style=\"text-align: right;\">\n",
       "      <th></th>\n",
       "      <th>ntaname</th>\n",
       "      <th>centerLong</th>\n",
       "      <th>centerLat</th>\n",
       "    </tr>\n",
       "  </thead>\n",
       "  <tbody>\n",
       "    <tr>\n",
       "      <th>0</th>\n",
       "      <td>borough park</td>\n",
       "      <td>-73.988661</td>\n",
       "      <td>40.630950</td>\n",
       "    </tr>\n",
       "    <tr>\n",
       "      <th>1</th>\n",
       "      <td>murray hill</td>\n",
       "      <td>-73.809546</td>\n",
       "      <td>40.768352</td>\n",
       "    </tr>\n",
       "    <tr>\n",
       "      <th>2</th>\n",
       "      <td>east elmhurst</td>\n",
       "      <td>-73.868396</td>\n",
       "      <td>40.763352</td>\n",
       "    </tr>\n",
       "    <tr>\n",
       "      <th>3</th>\n",
       "      <td>hollis</td>\n",
       "      <td>-73.761137</td>\n",
       "      <td>40.710639</td>\n",
       "    </tr>\n",
       "    <tr>\n",
       "      <th>4</th>\n",
       "      <td>manhattanville</td>\n",
       "      <td>-73.953782</td>\n",
       "      <td>40.817976</td>\n",
       "    </tr>\n",
       "    <tr>\n",
       "      <th>...</th>\n",
       "      <td>...</td>\n",
       "      <td>...</td>\n",
       "      <td>...</td>\n",
       "    </tr>\n",
       "    <tr>\n",
       "      <th>190</th>\n",
       "      <td>ozone park</td>\n",
       "      <td>-73.847049</td>\n",
       "      <td>40.675599</td>\n",
       "    </tr>\n",
       "    <tr>\n",
       "      <th>191</th>\n",
       "      <td>lindenwood-howard beach</td>\n",
       "      <td>-73.858961</td>\n",
       "      <td>40.652852</td>\n",
       "    </tr>\n",
       "    <tr>\n",
       "      <th>192</th>\n",
       "      <td>university heights-morris heights</td>\n",
       "      <td>-73.915974</td>\n",
       "      <td>40.852522</td>\n",
       "    </tr>\n",
       "    <tr>\n",
       "      <th>193</th>\n",
       "      <td>new brighton-silver lake</td>\n",
       "      <td>-74.102861</td>\n",
       "      <td>40.630050</td>\n",
       "    </tr>\n",
       "    <tr>\n",
       "      <th>194</th>\n",
       "      <td>west new brighton-new brighton-st. george</td>\n",
       "      <td>-74.102311</td>\n",
       "      <td>40.638971</td>\n",
       "    </tr>\n",
       "  </tbody>\n",
       "</table>\n",
       "<p>195 rows × 3 columns</p>\n",
       "</div>"
      ],
      "text/plain": [
       "                                       ntaname  centerLong  centerLat\n",
       "0                                 borough park  -73.988661  40.630950\n",
       "1                                  murray hill  -73.809546  40.768352\n",
       "2                                east elmhurst  -73.868396  40.763352\n",
       "3                                       hollis  -73.761137  40.710639\n",
       "4                               manhattanville  -73.953782  40.817976\n",
       "..                                         ...         ...        ...\n",
       "190                                 ozone park  -73.847049  40.675599\n",
       "191                    lindenwood-howard beach  -73.858961  40.652852\n",
       "192          university heights-morris heights  -73.915974  40.852522\n",
       "193                   new brighton-silver lake  -74.102861  40.630050\n",
       "194  west new brighton-new brighton-st. george  -74.102311  40.638971\n",
       "\n",
       "[195 rows x 3 columns]"
      ]
     },
     "execution_count": 12,
     "metadata": {},
     "output_type": "execute_result"
    }
   ],
   "source": [
    "centers"
   ]
  },
  {
   "cell_type": "code",
   "execution_count": 13,
   "metadata": {},
   "outputs": [],
   "source": [
    "df = pd.read_csv('data/MergedTreesPropertiesData.csv')"
   ]
  },
  {
   "cell_type": "code",
   "execution_count": 14,
   "metadata": {},
   "outputs": [],
   "source": [
    "df = pd.merge(df, centers, how='outer', on='ntaname')"
   ]
  },
  {
   "cell_type": "code",
   "execution_count": 15,
   "metadata": {},
   "outputs": [],
   "source": [
    "df.drop(columns={'Unnamed: 0'}, inplace=True)\n",
    "df.dropna(inplace=True)\n"
   ]
  },
  {
   "cell_type": "code",
   "execution_count": 16,
   "metadata": {},
   "outputs": [],
   "source": [
    "df['hover']=''"
   ]
  },
  {
   "cell_type": "code",
   "execution_count": 17,
   "metadata": {},
   "outputs": [],
   "source": [
    "for index, row in df.iterrows():\n",
    "    new_hover=row['ntaname']+'<br>'+row['borough']+'<br>'+'trees/sq.mile: '+str(row['trees/sq.mile'])+'<br>'+'avg. landprice: '+ str(row['avg.landprice_thous$/acre']) + '<br>'+'trees health: '+str(row['health'])+'/15'\n",
    "    df.at[index,'hover'] = new_hover\n"
   ]
  },
  {
   "cell_type": "code",
   "execution_count": 18,
   "metadata": {},
   "outputs": [],
   "source": [
    "df.drop(columns={'borough_y', 'avtot'}, inplace = True)"
   ]
  },
  {
   "cell_type": "code",
   "execution_count": 19,
   "metadata": {},
   "outputs": [
    {
     "data": {
      "text/plain": [
       "'airport<br>queens<br>trees/sq.mile: 18.94<br>avg. landprice: 1995.03<br>trees health: 14.32/15'"
      ]
     },
     "execution_count": 19,
     "metadata": {},
     "output_type": "execute_result"
    }
   ],
   "source": [
    "df.hover[0]"
   ]
  },
  {
   "cell_type": "code",
   "execution_count": 20,
   "metadata": {},
   "outputs": [],
   "source": [
    "df.to_csv('data\\Trees_Properties_With_Centroids.csv')"
   ]
  },
  {
   "cell_type": "code",
   "execution_count": null,
   "metadata": {},
   "outputs": [],
   "source": []
  }
 ],
 "metadata": {
  "kernelspec": {
   "display_name": "Python 3",
   "language": "python",
   "name": "python3"
  },
  "language_info": {
   "codemirror_mode": {
    "name": "ipython",
    "version": 3
   },
   "file_extension": ".py",
   "mimetype": "text/x-python",
   "name": "python",
   "nbconvert_exporter": "python",
   "pygments_lexer": "ipython3",
   "version": "3.7.6"
  }
 },
 "nbformat": 4,
 "nbformat_minor": 4
}
