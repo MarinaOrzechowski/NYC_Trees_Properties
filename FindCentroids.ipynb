{
 "cells": [
  {
   "cell_type": "markdown",
   "metadata": {},
   "source": [
    "<h2>Find coordinates of neighborhoods' centers and add 'hover' data</h2>"
   ]
  },
  {
   "cell_type": "code",
   "execution_count": 62,
   "metadata": {},
   "outputs": [],
   "source": [
    "from geojson_utils import point_in_multipolygon\n",
    "from geojson_utils import centroid\n",
    "import pandas as pd\n",
    "import json"
   ]
  },
  {
   "cell_type": "code",
   "execution_count": 63,
   "metadata": {},
   "outputs": [],
   "source": [
    "data= pd.read_json('data/NeighborhoodTabulationAreas.geojson')"
   ]
  },
  {
   "cell_type": "code",
   "execution_count": 64,
   "metadata": {},
   "outputs": [],
   "source": [
    "centers = pd.DataFrame(columns=['ntaname', 'center'])\n",
    "for element in data['features']:\n",
    "    box_str = str(element['geometry']['coordinates'][0])\n",
    "    box_str = '{\"type\": \"Polygon\",\"coordinates\": '+box_str+'}'\n",
    "    box = json.loads(box_str)\n",
    "    point = centroid(box)\n",
    "    centers = centers.append({'ntaname': element['properties']['ntaname'].lower(), 'center': point['coordinates']}, ignore_index=True)"
   ]
  },
  {
   "cell_type": "code",
   "execution_count": 65,
   "metadata": {},
   "outputs": [
    {
     "data": {
      "text/html": [
       "<div>\n",
       "<style scoped>\n",
       "    .dataframe tbody tr th:only-of-type {\n",
       "        vertical-align: middle;\n",
       "    }\n",
       "\n",
       "    .dataframe tbody tr th {\n",
       "        vertical-align: top;\n",
       "    }\n",
       "\n",
       "    .dataframe thead th {\n",
       "        text-align: right;\n",
       "    }\n",
       "</style>\n",
       "<table border=\"1\" class=\"dataframe\">\n",
       "  <thead>\n",
       "    <tr style=\"text-align: right;\">\n",
       "      <th></th>\n",
       "      <th>ntaname</th>\n",
       "      <th>center</th>\n",
       "    </tr>\n",
       "  </thead>\n",
       "  <tbody>\n",
       "    <tr>\n",
       "      <th>0</th>\n",
       "      <td>borough park</td>\n",
       "      <td>[-73.98866118244146, 40.63094962893662]</td>\n",
       "    </tr>\n",
       "    <tr>\n",
       "      <th>1</th>\n",
       "      <td>murray hill</td>\n",
       "      <td>[-73.80954591780244, 40.76835159714577]</td>\n",
       "    </tr>\n",
       "    <tr>\n",
       "      <th>2</th>\n",
       "      <td>east elmhurst</td>\n",
       "      <td>[-73.86839572917839, 40.763352273402226]</td>\n",
       "    </tr>\n",
       "    <tr>\n",
       "      <th>3</th>\n",
       "      <td>hollis</td>\n",
       "      <td>[-73.76113710301854, 40.71063936265136]</td>\n",
       "    </tr>\n",
       "    <tr>\n",
       "      <th>4</th>\n",
       "      <td>manhattanville</td>\n",
       "      <td>[-73.9537819286583, 40.81797553106497]</td>\n",
       "    </tr>\n",
       "    <tr>\n",
       "      <th>...</th>\n",
       "      <td>...</td>\n",
       "      <td>...</td>\n",
       "    </tr>\n",
       "    <tr>\n",
       "      <th>190</th>\n",
       "      <td>ozone park</td>\n",
       "      <td>[-73.84704886355445, 40.67559947721649]</td>\n",
       "    </tr>\n",
       "    <tr>\n",
       "      <th>191</th>\n",
       "      <td>lindenwood-howard beach</td>\n",
       "      <td>[-73.85896092897983, 40.652852350618424]</td>\n",
       "    </tr>\n",
       "    <tr>\n",
       "      <th>192</th>\n",
       "      <td>university heights-morris heights</td>\n",
       "      <td>[-73.91597437354349, 40.85252212758218]</td>\n",
       "    </tr>\n",
       "    <tr>\n",
       "      <th>193</th>\n",
       "      <td>new brighton-silver lake</td>\n",
       "      <td>[-74.10286121893223, 40.630050089062976]</td>\n",
       "    </tr>\n",
       "    <tr>\n",
       "      <th>194</th>\n",
       "      <td>west new brighton-new brighton-st. george</td>\n",
       "      <td>[-74.10231071000076, 40.63897068127431]</td>\n",
       "    </tr>\n",
       "  </tbody>\n",
       "</table>\n",
       "<p>195 rows × 2 columns</p>\n",
       "</div>"
      ],
      "text/plain": [
       "                                       ntaname  \\\n",
       "0                                 borough park   \n",
       "1                                  murray hill   \n",
       "2                                east elmhurst   \n",
       "3                                       hollis   \n",
       "4                               manhattanville   \n",
       "..                                         ...   \n",
       "190                                 ozone park   \n",
       "191                    lindenwood-howard beach   \n",
       "192          university heights-morris heights   \n",
       "193                   new brighton-silver lake   \n",
       "194  west new brighton-new brighton-st. george   \n",
       "\n",
       "                                       center  \n",
       "0     [-73.98866118244146, 40.63094962893662]  \n",
       "1     [-73.80954591780244, 40.76835159714577]  \n",
       "2    [-73.86839572917839, 40.763352273402226]  \n",
       "3     [-73.76113710301854, 40.71063936265136]  \n",
       "4      [-73.9537819286583, 40.81797553106497]  \n",
       "..                                        ...  \n",
       "190   [-73.84704886355445, 40.67559947721649]  \n",
       "191  [-73.85896092897983, 40.652852350618424]  \n",
       "192   [-73.91597437354349, 40.85252212758218]  \n",
       "193  [-74.10286121893223, 40.630050089062976]  \n",
       "194   [-74.10231071000076, 40.63897068127431]  \n",
       "\n",
       "[195 rows x 2 columns]"
      ]
     },
     "execution_count": 65,
     "metadata": {},
     "output_type": "execute_result"
    }
   ],
   "source": [
    "centers"
   ]
  },
  {
   "cell_type": "code",
   "execution_count": 74,
   "metadata": {},
   "outputs": [],
   "source": [
    "df = pd.read_csv('data/MergedTreesPropertiesData.csv')"
   ]
  },
  {
   "cell_type": "code",
   "execution_count": 75,
   "metadata": {},
   "outputs": [],
   "source": [
    "df = pd.merge(df, centers, how='outer', on='ntaname')"
   ]
  },
  {
   "cell_type": "code",
   "execution_count": 76,
   "metadata": {},
   "outputs": [],
   "source": [
    "df.drop(columns={'Unnamed: 0'}, inplace=True)\n",
    "df.dropna(inplace=True)\n"
   ]
  },
  {
   "cell_type": "code",
   "execution_count": 77,
   "metadata": {},
   "outputs": [],
   "source": [
    "df['hover']=''"
   ]
  },
  {
   "cell_type": "code",
   "execution_count": 78,
   "metadata": {},
   "outputs": [],
   "source": [
    "for index, row in df.iterrows():\n",
    "    new_hover=row['ntaname']+'<br>'+row['borough']+'<br>'+'trees/sq.mile: '+str(row['trees/sq.mile'])+'<br>'+'avg. landprice: '+ str(row['avg.landprice_thous$/acre']) + '<br>'+'trees health: '+str(row['health'])+'/15'\n",
    "    df.at[index,'hover'] = new_hover\n"
   ]
  },
  {
   "cell_type": "code",
   "execution_count": 79,
   "metadata": {},
   "outputs": [],
   "source": [
    "df.drop(columns={'borough_y', 'avtot'}, inplace = True)"
   ]
  },
  {
   "cell_type": "code",
   "execution_count": 80,
   "metadata": {},
   "outputs": [
    {
     "data": {
      "text/plain": [
       "'airport<br>queens<br>trees/sq.mile: 18.94<br>avg. landprice: 1995.03<br>trees health: 14.32/15'"
      ]
     },
     "execution_count": 80,
     "metadata": {},
     "output_type": "execute_result"
    }
   ],
   "source": [
    "df.hover[0]"
   ]
  },
  {
   "cell_type": "code",
   "execution_count": 81,
   "metadata": {},
   "outputs": [],
   "source": [
    "df.to_csv('data\\Trees_Properties_With_Centroids.csv')"
   ]
  },
  {
   "cell_type": "code",
   "execution_count": null,
   "metadata": {},
   "outputs": [],
   "source": []
  }
 ],
 "metadata": {
  "kernelspec": {
   "display_name": "Python 3",
   "language": "python",
   "name": "python3"
  },
  "language_info": {
   "codemirror_mode": {
    "name": "ipython",
    "version": 3
   },
   "file_extension": ".py",
   "mimetype": "text/x-python",
   "name": "python",
   "nbconvert_exporter": "python",
   "pygments_lexer": "ipython3",
   "version": "3.7.6"
  }
 },
 "nbformat": 4,
 "nbformat_minor": 4
}
