{
 "cells": [
  {
   "cell_type": "code",
   "execution_count": 14,
   "metadata": {},
   "outputs": [],
   "source": [
    "import plotly.offline as py\n",
    "import plotly.graph_objs as graph_objs\n",
    "import pandas as pd\n",
    "import geopandas as gpd\n",
    "import numpy as np\n",
    "import re\n",
    "\n",
    "mapbox_access_token = \"pk.eyJ1IjoibWlzaGtpY2UiLCJhIjoiY2s5MG94bWRoMDQxdjNmcHI1aWI1YnFkYyJ9.eFsHqEMYY7qxa0Pb9USCtQ\""
   ]
  },
  {
   "cell_type": "code",
   "execution_count": 15,
   "metadata": {},
   "outputs": [],
   "source": [
    "dfgN = gpd.read_file('data/NeighborhoodTabulationAreas.geojson')\n",
    "dfgB = gpd.read_file('data/BoroughBoundaries.geojson')\n",
    "dfgN.columns = map(str.lower, dfgN.columns)\n",
    "dfgN = dfgN.applymap(lambda s:s.lower() if type(s) == str else s)\n",
    "\n",
    "dfgB.columns = map(str.lower, dfgB.columns)\n",
    "dfgB = dfgB.applymap(lambda s:s.lower() if type(s) == str else s)"
   ]
  },
  {
   "cell_type": "code",
   "execution_count": 16,
   "metadata": {},
   "outputs": [
    {
     "data": {
      "text/html": [
       "<div>\n",
       "<style scoped>\n",
       "    .dataframe tbody tr th:only-of-type {\n",
       "        vertical-align: middle;\n",
       "    }\n",
       "\n",
       "    .dataframe tbody tr th {\n",
       "        vertical-align: top;\n",
       "    }\n",
       "\n",
       "    .dataframe thead th {\n",
       "        text-align: right;\n",
       "    }\n",
       "</style>\n",
       "<table border=\"1\" class=\"dataframe\">\n",
       "  <thead>\n",
       "    <tr style=\"text-align: right;\">\n",
       "      <th></th>\n",
       "      <th>ntacode</th>\n",
       "      <th>shape_area</th>\n",
       "      <th>county_fips</th>\n",
       "      <th>ntaname</th>\n",
       "      <th>shape_leng</th>\n",
       "      <th>boro_name</th>\n",
       "      <th>boro_code</th>\n",
       "      <th>geometry</th>\n",
       "    </tr>\n",
       "  </thead>\n",
       "  <tbody>\n",
       "    <tr>\n",
       "      <th>0</th>\n",
       "      <td>bk88</td>\n",
       "      <td>54005019.048</td>\n",
       "      <td>047</td>\n",
       "      <td>borough park</td>\n",
       "      <td>39247.2278309</td>\n",
       "      <td>brooklyn</td>\n",
       "      <td>3</td>\n",
       "      <td>MULTIPOLYGON (((-73.97605 40.63128, -73.97717 ...</td>\n",
       "    </tr>\n",
       "    <tr>\n",
       "      <th>1</th>\n",
       "      <td>qn51</td>\n",
       "      <td>52488277.846</td>\n",
       "      <td>081</td>\n",
       "      <td>murray hill</td>\n",
       "      <td>33266.9047967</td>\n",
       "      <td>queens</td>\n",
       "      <td>4</td>\n",
       "      <td>MULTIPOLYGON (((-73.80379 40.77561, -73.80099 ...</td>\n",
       "    </tr>\n",
       "    <tr>\n",
       "      <th>2</th>\n",
       "      <td>qn27</td>\n",
       "      <td>19726845.6282</td>\n",
       "      <td>081</td>\n",
       "      <td>east elmhurst</td>\n",
       "      <td>19816.7120736</td>\n",
       "      <td>queens</td>\n",
       "      <td>4</td>\n",
       "      <td>MULTIPOLYGON (((-73.86110 40.76366, -73.85993 ...</td>\n",
       "    </tr>\n",
       "    <tr>\n",
       "      <th>3</th>\n",
       "      <td>qn07</td>\n",
       "      <td>22887772.8652</td>\n",
       "      <td>081</td>\n",
       "      <td>hollis</td>\n",
       "      <td>20976.3355739</td>\n",
       "      <td>queens</td>\n",
       "      <td>4</td>\n",
       "      <td>MULTIPOLYGON (((-73.75726 40.71814, -73.75589 ...</td>\n",
       "    </tr>\n",
       "    <tr>\n",
       "      <th>4</th>\n",
       "      <td>mn06</td>\n",
       "      <td>10647077.5264</td>\n",
       "      <td>061</td>\n",
       "      <td>manhattanville</td>\n",
       "      <td>17040.6854129</td>\n",
       "      <td>manhattan</td>\n",
       "      <td>1</td>\n",
       "      <td>MULTIPOLYGON (((-73.94608 40.82126, -73.94640 ...</td>\n",
       "    </tr>\n",
       "  </tbody>\n",
       "</table>\n",
       "</div>"
      ],
      "text/plain": [
       "  ntacode     shape_area county_fips         ntaname     shape_leng  \\\n",
       "0    bk88   54005019.048         047    borough park  39247.2278309   \n",
       "1    qn51   52488277.846         081     murray hill  33266.9047967   \n",
       "2    qn27  19726845.6282         081   east elmhurst  19816.7120736   \n",
       "3    qn07  22887772.8652         081          hollis  20976.3355739   \n",
       "4    mn06  10647077.5264         061  manhattanville  17040.6854129   \n",
       "\n",
       "   boro_name boro_code                                           geometry  \n",
       "0   brooklyn         3  MULTIPOLYGON (((-73.97605 40.63128, -73.97717 ...  \n",
       "1     queens         4  MULTIPOLYGON (((-73.80379 40.77561, -73.80099 ...  \n",
       "2     queens         4  MULTIPOLYGON (((-73.86110 40.76366, -73.85993 ...  \n",
       "3     queens         4  MULTIPOLYGON (((-73.75726 40.71814, -73.75589 ...  \n",
       "4  manhattan         1  MULTIPOLYGON (((-73.94608 40.82126, -73.94640 ...  "
      ]
     },
     "execution_count": 16,
     "metadata": {},
     "output_type": "execute_result"
    }
   ],
   "source": [
    "dfgN.head()"
   ]
  },
  {
   "cell_type": "code",
   "execution_count": 17,
   "metadata": {},
   "outputs": [
    {
     "data": {
      "text/html": [
       "<div>\n",
       "<style scoped>\n",
       "    .dataframe tbody tr th:only-of-type {\n",
       "        vertical-align: middle;\n",
       "    }\n",
       "\n",
       "    .dataframe tbody tr th {\n",
       "        vertical-align: top;\n",
       "    }\n",
       "\n",
       "    .dataframe thead th {\n",
       "        text-align: right;\n",
       "    }\n",
       "</style>\n",
       "<table border=\"1\" class=\"dataframe\">\n",
       "  <thead>\n",
       "    <tr style=\"text-align: right;\">\n",
       "      <th></th>\n",
       "      <th>boro_code</th>\n",
       "      <th>borough</th>\n",
       "      <th>shape_area</th>\n",
       "      <th>shape_leng</th>\n",
       "      <th>geometry</th>\n",
       "    </tr>\n",
       "  </thead>\n",
       "  <tbody>\n",
       "    <tr>\n",
       "      <th>0</th>\n",
       "      <td>2</td>\n",
       "      <td>bronx</td>\n",
       "      <td>1186612478.27</td>\n",
       "      <td>462958.187578</td>\n",
       "      <td>MULTIPOLYGON (((-73.89681 40.79581, -73.89694 ...</td>\n",
       "    </tr>\n",
       "    <tr>\n",
       "      <th>1</th>\n",
       "      <td>5</td>\n",
       "      <td>staten island</td>\n",
       "      <td>1623757282.78</td>\n",
       "      <td>325956.009</td>\n",
       "      <td>MULTIPOLYGON (((-74.05051 40.56642, -74.05047 ...</td>\n",
       "    </tr>\n",
       "    <tr>\n",
       "      <th>2</th>\n",
       "      <td>3</td>\n",
       "      <td>brooklyn</td>\n",
       "      <td>1937593022.64</td>\n",
       "      <td>738745.842115</td>\n",
       "      <td>MULTIPOLYGON (((-73.86706 40.58209, -73.86769 ...</td>\n",
       "    </tr>\n",
       "    <tr>\n",
       "      <th>3</th>\n",
       "      <td>4</td>\n",
       "      <td>queens</td>\n",
       "      <td>3045878293.21</td>\n",
       "      <td>904188.424488</td>\n",
       "      <td>MULTIPOLYGON (((-73.83668 40.59495, -73.83678 ...</td>\n",
       "    </tr>\n",
       "    <tr>\n",
       "      <th>4</th>\n",
       "      <td>1</td>\n",
       "      <td>manhattan</td>\n",
       "      <td>636602658.887</td>\n",
       "      <td>361212.476098</td>\n",
       "      <td>MULTIPOLYGON (((-74.01093 40.68449, -74.01193 ...</td>\n",
       "    </tr>\n",
       "  </tbody>\n",
       "</table>\n",
       "</div>"
      ],
      "text/plain": [
       "  boro_code        borough     shape_area     shape_leng  \\\n",
       "0         2          bronx  1186612478.27  462958.187578   \n",
       "1         5  staten island  1623757282.78     325956.009   \n",
       "2         3       brooklyn  1937593022.64  738745.842115   \n",
       "3         4         queens  3045878293.21  904188.424488   \n",
       "4         1      manhattan  636602658.887  361212.476098   \n",
       "\n",
       "                                            geometry  \n",
       "0  MULTIPOLYGON (((-73.89681 40.79581, -73.89694 ...  \n",
       "1  MULTIPOLYGON (((-74.05051 40.56642, -74.05047 ...  \n",
       "2  MULTIPOLYGON (((-73.86706 40.58209, -73.86769 ...  \n",
       "3  MULTIPOLYGON (((-73.83668 40.59495, -73.83678 ...  \n",
       "4  MULTIPOLYGON (((-74.01093 40.68449, -74.01193 ...  "
      ]
     },
     "execution_count": 17,
     "metadata": {},
     "output_type": "execute_result"
    }
   ],
   "source": [
    "dfgB.rename(columns={'boro_name': 'borough'}, inplace=True)\n",
    "dfgB.head()"
   ]
  },
  {
   "cell_type": "code",
   "execution_count": 18,
   "metadata": {},
   "outputs": [],
   "source": [
    "full_dfN = pd.read_csv('data/Trees_Properties_With_Centroids.csv')\n",
    "full_dfB = pd.read_csv('data/Trees_Properties_With_Centroids_Boro.csv')\n",
    "full_dfNP =full_dfN\n",
    "full_dfBP = full_dfB################stopped here"
   ]
  },
  {
   "cell_type": "code",
   "execution_count": 19,
   "metadata": {},
   "outputs": [
    {
     "data": {
      "text/html": [
       "<div>\n",
       "<style scoped>\n",
       "    .dataframe tbody tr th:only-of-type {\n",
       "        vertical-align: middle;\n",
       "    }\n",
       "\n",
       "    .dataframe tbody tr th {\n",
       "        vertical-align: top;\n",
       "    }\n",
       "\n",
       "    .dataframe thead th {\n",
       "        text-align: right;\n",
       "    }\n",
       "</style>\n",
       "<table border=\"1\" class=\"dataframe\">\n",
       "  <thead>\n",
       "    <tr style=\"text-align: right;\">\n",
       "      <th></th>\n",
       "      <th>Unnamed: 0</th>\n",
       "      <th>borough</th>\n",
       "      <th>area</th>\n",
       "      <th>health</th>\n",
       "      <th>trees/sq.mile</th>\n",
       "      <th>avg.landprice_thous$/acre</th>\n",
       "      <th>properties/sq.mile</th>\n",
       "      <th>centerLong</th>\n",
       "      <th>centerLat</th>\n",
       "      <th>hover</th>\n",
       "    </tr>\n",
       "  </thead>\n",
       "  <tbody>\n",
       "    <tr>\n",
       "      <th>0</th>\n",
       "      <td>0</td>\n",
       "      <td>bronx</td>\n",
       "      <td>34.29</td>\n",
       "      <td>13.886667</td>\n",
       "      <td>2582.143056</td>\n",
       "      <td>58.444444</td>\n",
       "      <td>2665.613056</td>\n",
       "      <td>-73.8648</td>\n",
       "      <td>40.8448</td>\n",
       "      <td>bronx&lt;br&gt;trees/sq.mile: 2582.14&lt;br&gt;avg. landpr...</td>\n",
       "    </tr>\n",
       "    <tr>\n",
       "      <th>1</th>\n",
       "      <td>1</td>\n",
       "      <td>brooklyn</td>\n",
       "      <td>69.47</td>\n",
       "      <td>13.874510</td>\n",
       "      <td>2844.993137</td>\n",
       "      <td>154.762157</td>\n",
       "      <td>5497.278235</td>\n",
       "      <td>-73.9442</td>\n",
       "      <td>40.6782</td>\n",
       "      <td>brooklyn&lt;br&gt;trees/sq.mile: 2844.99&lt;br&gt;avg. lan...</td>\n",
       "    </tr>\n",
       "    <tr>\n",
       "      <th>2</th>\n",
       "      <td>2</td>\n",
       "      <td>manhattan</td>\n",
       "      <td>18.79</td>\n",
       "      <td>13.418077</td>\n",
       "      <td>3210.450385</td>\n",
       "      <td>257.268077</td>\n",
       "      <td>7584.695000</td>\n",
       "      <td>-73.9712</td>\n",
       "      <td>40.7831</td>\n",
       "      <td>manhattan&lt;br&gt;trees/sq.mile: 3210.45&lt;br&gt;avg. la...</td>\n",
       "    </tr>\n",
       "    <tr>\n",
       "      <th>3</th>\n",
       "      <td>3</td>\n",
       "      <td>queens</td>\n",
       "      <td>116.28</td>\n",
       "      <td>13.855085</td>\n",
       "      <td>2545.812881</td>\n",
       "      <td>209.636949</td>\n",
       "      <td>4061.352373</td>\n",
       "      <td>-73.7949</td>\n",
       "      <td>40.7282</td>\n",
       "      <td>queens&lt;br&gt;trees/sq.mile: 2545.81&lt;br&gt;avg. landp...</td>\n",
       "    </tr>\n",
       "    <tr>\n",
       "      <th>4</th>\n",
       "      <td>4</td>\n",
       "      <td>staten island</td>\n",
       "      <td>57.39</td>\n",
       "      <td>13.924444</td>\n",
       "      <td>2130.842778</td>\n",
       "      <td>24.254444</td>\n",
       "      <td>2752.206111</td>\n",
       "      <td>-74.1502</td>\n",
       "      <td>40.5795</td>\n",
       "      <td>staten island&lt;br&gt;trees/sq.mile: 2130.84&lt;br&gt;avg...</td>\n",
       "    </tr>\n",
       "  </tbody>\n",
       "</table>\n",
       "</div>"
      ],
      "text/plain": [
       "   Unnamed: 0        borough    area     health  trees/sq.mile  \\\n",
       "0           0          bronx   34.29  13.886667    2582.143056   \n",
       "1           1       brooklyn   69.47  13.874510    2844.993137   \n",
       "2           2      manhattan   18.79  13.418077    3210.450385   \n",
       "3           3         queens  116.28  13.855085    2545.812881   \n",
       "4           4  staten island   57.39  13.924444    2130.842778   \n",
       "\n",
       "   avg.landprice_thous$/acre  properties/sq.mile  centerLong  centerLat  \\\n",
       "0                  58.444444         2665.613056    -73.8648    40.8448   \n",
       "1                 154.762157         5497.278235    -73.9442    40.6782   \n",
       "2                 257.268077         7584.695000    -73.9712    40.7831   \n",
       "3                 209.636949         4061.352373    -73.7949    40.7282   \n",
       "4                  24.254444         2752.206111    -74.1502    40.5795   \n",
       "\n",
       "                                               hover  \n",
       "0  bronx<br>trees/sq.mile: 2582.14<br>avg. landpr...  \n",
       "1  brooklyn<br>trees/sq.mile: 2844.99<br>avg. lan...  \n",
       "2  manhattan<br>trees/sq.mile: 3210.45<br>avg. la...  \n",
       "3  queens<br>trees/sq.mile: 2545.81<br>avg. landp...  \n",
       "4  staten island<br>trees/sq.mile: 2130.84<br>avg...  "
      ]
     },
     "execution_count": 19,
     "metadata": {},
     "output_type": "execute_result"
    }
   ],
   "source": [
    "full_dfB.head()"
   ]
  },
  {
   "cell_type": "markdown",
   "metadata": {},
   "source": [
    "Add bins column"
   ]
  },
  {
   "cell_type": "markdown",
   "metadata": {},
   "source": [
    "<h3>Bins for neighborhoods</h3>"
   ]
  },
  {
   "cell_type": "code",
   "execution_count": 20,
   "metadata": {},
   "outputs": [],
   "source": [
    "binsN_trees = [\n",
    "    \"0-500\",\n",
    "    \"501-1000\",\n",
    "    \"1001-1500\",\n",
    "    \"1501-2000\",\n",
    "    \"2001-2500\",\n",
    "    \"2501-3000\",\n",
    "    \"3001-3500\",\n",
    "    \"3501-4000\",\n",
    "    \"4001-4500\",\n",
    "    \"4501-5000\"\n",
    "]\n",
    "binsB_trees = [\n",
    "    \"2000-2300\",\n",
    "    \"2301-2600\",\n",
    "    \"2601-2900\",\n",
    "    \"2901-3200\",\n",
    "    \"3201-3500\"\n",
    "]"
   ]
  },
  {
   "cell_type": "markdown",
   "metadata": {},
   "source": [
    "<h3>Bins for boroughs</h3>"
   ]
  },
  {
   "cell_type": "code",
   "execution_count": 21,
   "metadata": {},
   "outputs": [],
   "source": [
    "\n",
    "binsN_prop = [\n",
    "    \"0-21\",\n",
    "    \"21-40\",\n",
    "    \"41-60\",\n",
    "    \"61-80\",\n",
    "    \"81-100\",\n",
    "    \"above 100\"\n",
    "]\n",
    "binsB_prop = [\n",
    "    \"0-50\",\n",
    "    \"51-100\",\n",
    "    \"101-150\",\n",
    "    \"151-200\",\n",
    "    \"above 200\"\n",
    "]"
   ]
  },
  {
   "cell_type": "code",
   "execution_count": 22,
   "metadata": {},
   "outputs": [],
   "source": [
    "full_dfN['bin']=full_dfN['trees/sq.mile'].apply(lambda x: binsN_trees[0] if int(x) <=500 else binsN_trees[1] if int(x) <=1000 else binsN_trees[2] if x <=1500 else binsN_trees[3] if int(x) <=2000 else binsN_trees[4] if int(x) <=2500 else binsN_trees[5] if int(x) <=3000 else binsN_trees[6] if int(x) <=3500 else binsN_trees[7] if int(x) <=4000 else binsN_trees[8] if int(x) <=4500 else binsN_trees[9] )\n",
    "full_dfB['bin']=full_dfB['trees/sq.mile'].apply(lambda x: binsB_trees[0] if int(x) <=2300 else binsB_trees[1] if int(x) <=2600 else binsB_trees[2] if x <=2900 else binsB_trees[3] if int(x) <=3200 else binsB_trees[4])\n"
   ]
  },
  {
   "cell_type": "code",
   "execution_count": 23,
   "metadata": {},
   "outputs": [],
   "source": [
    "full_dfNP['bin_p']=full_dfN['avg.landprice_thous$/acre'].apply(lambda x: binsN_prop[0] if int(x) <=20 else binsN_prop[1] if int(x) <=40 else binsN_prop[2] if int(x) <=60 else binsN_prop[3] if int(x) <=80 else binsN_prop[4] if int(x) <=100 else binsN_prop[5])\n",
    "full_dfBP['bin_p']=full_dfB['avg.landprice_thous$/acre'].apply(lambda x: binsB_prop[0] if int(x) <=50 else binsB_prop[1] if int(x) <=100 else binsB_prop[2] if int(x) <=150 else binsB_prop[3] if int(x) <=200 else binsB_prop[4] )"
   ]
  },
  {
   "cell_type": "markdown",
   "metadata": {},
   "source": [
    "<h3> Create geojson files according to bins</h3>"
   ]
  },
  {
   "cell_type": "code",
   "execution_count": 24,
   "metadata": {},
   "outputs": [
    {
     "name": "stdout",
     "output_type": "stream",
     "text": [
      "0-500\n",
      "501-1000\n",
      "1001-1500\n",
      "1501-2000\n",
      "2001-2500\n",
      "2501-3000\n",
      "3001-3500\n",
      "3501-4000\n",
      "4001-4500\n",
      "4501-5000\n"
     ]
    }
   ],
   "source": [
    "merged = dfgN.merge(full_dfN, on='ntaname' )\n",
    "for bin in binsN_trees:\n",
    "    print(bin)\n",
    "    geo_layer = merged[(merged['bin'] == bin)] # geo\n",
    "    try:\n",
    "        geo_layer.to_file(\"data/neighborhoods/trees_per_sqmile/{}.geojson\".format(bin), driver='GeoJSON')\n",
    "    except:\n",
    "        print('err')"
   ]
  },
  {
   "cell_type": "code",
   "execution_count": 25,
   "metadata": {},
   "outputs": [
    {
     "name": "stdout",
     "output_type": "stream",
     "text": [
      "2000-2300\n",
      "2301-2600\n",
      "2601-2900\n",
      "2901-3200\n",
      "err\n",
      "3201-3500\n"
     ]
    }
   ],
   "source": [
    "mergedB = dfgB.merge(full_dfB, on='borough' )\n",
    "for bin in binsB_trees:\n",
    "    print(bin)\n",
    "    geo_layer = mergedB[(mergedB['bin'] == bin)] # geo\n",
    "    try:\n",
    "        geo_layer.to_file(\"data/boroughs/trees_per_sqmile/{}.geojson\".format(bin), driver='GeoJSON')\n",
    "    except:\n",
    "        print('err')"
   ]
  },
  {
   "cell_type": "code",
   "execution_count": 26,
   "metadata": {},
   "outputs": [
    {
     "name": "stdout",
     "output_type": "stream",
     "text": [
      "0-21\n",
      "21-40\n",
      "41-60\n",
      "61-80\n",
      "81-100\n",
      "above 100\n"
     ]
    }
   ],
   "source": [
    "mergedP = dfgN.merge(full_dfNP, on='ntaname' )\n",
    "for bin in binsN_prop:\n",
    "    print(bin)\n",
    "    geo_layer = mergedP[(mergedP['bin_p'] == bin)] # geo\n",
    "    try:\n",
    "        geo_layer.to_file(\"data/neighborhoods/land_price/{}.geojson\".format(bin), driver='GeoJSON')\n",
    "    except:\n",
    "        print('err')"
   ]
  },
  {
   "cell_type": "code",
   "execution_count": 27,
   "metadata": {},
   "outputs": [
    {
     "name": "stdout",
     "output_type": "stream",
     "text": [
      "0-50\n",
      "51-100\n",
      "101-150\n",
      "err\n",
      "151-200\n",
      "above 200\n"
     ]
    }
   ],
   "source": [
    "mergedPB = dfgB.merge(full_dfBP, on='borough' )\n",
    "for bin in binsB_prop:\n",
    "    print(bin)\n",
    "    geo_layer = mergedPB[(mergedPB['bin_p'] == bin)] # geo\n",
    "    try:\n",
    "        geo_layer.to_file(\"data/boroughs/land_price/{}.geojson\".format(bin), driver='GeoJSON')\n",
    "    except:\n",
    "        print('err')"
   ]
  },
  {
   "cell_type": "code",
   "execution_count": null,
   "metadata": {},
   "outputs": [],
   "source": []
  },
  {
   "cell_type": "code",
   "execution_count": null,
   "metadata": {},
   "outputs": [],
   "source": []
  }
 ],
 "metadata": {
  "kernelspec": {
   "display_name": "Python 3",
   "language": "python",
   "name": "python3"
  },
  "language_info": {
   "codemirror_mode": {
    "name": "ipython",
    "version": 3
   },
   "file_extension": ".py",
   "mimetype": "text/x-python",
   "name": "python",
   "nbconvert_exporter": "python",
   "pygments_lexer": "ipython3",
   "version": "3.7.6"
  }
 },
 "nbformat": 4,
 "nbformat_minor": 4
}
